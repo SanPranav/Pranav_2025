{
 "cells": [
  {
   "cell_type": "raw",
   "metadata": {
    "vscode": {
     "languageId": "raw"
    }
   },
   "source": [
    "---\n",
    "layout: post\n",
    "title: Homework Hacks 3.6\n",
    "description: Homework Hacks 3.6\n",
    "type: collab\n",
    "comments: true\n",
    "---"
   ]
  },
  {
   "cell_type": "code",
   "execution_count": 2,
   "metadata": {},
   "outputs": [
    {
     "name": "stdout",
     "output_type": "stream",
     "text": [
      "It's a warm day\n"
     ]
    }
   ],
   "source": [
    "# Popcorn Hack #1\n",
    "# Step 1: Add a variable that represents temperature\n",
    "temperature = 60  # You can change this value to test different conditions\n",
    "\n",
    "# Step 2: Check if it’s a hot day\n",
    "if temperature >= 80:\n",
    "    print(\"It's a hot day\")\n",
    "# Step 3: Check if it’s a warm day\n",
    "elif 60 <= temperature < 80:\n",
    "    print(\"It's a warm day\")\n",
    "# Step 4: Check if it’s a cool day\n",
    "elif 40 <= temperature < 60:\n",
    "    print(\"It's a cool day\")\n",
    "# Step 5: Otherwise, print it's a cold day\n",
    "else:\n",
    "    print(\"It's a cold day\")"
   ]
  },
  {
   "cell_type": "code",
   "execution_count": null,
   "metadata": {},
   "outputs": [],
   "source": [
    "3.6.2 Hacks"
   ]
  },
  {
   "cell_type": "code",
   "execution_count": 7,
   "metadata": {
    "vscode": {
     "languageId": "javascript"
    }
   },
   "outputs": [
    {
     "ename": "SyntaxError",
     "evalue": "invalid syntax (4047960152.py, line 1)",
     "output_type": "error",
     "traceback": [
      "\u001b[0;36m  Cell \u001b[0;32mIn[7], line 1\u001b[0;36m\u001b[0m\n\u001b[0;31m    // Popcorn Hack #1\u001b[0m\n\u001b[0m    ^\u001b[0m\n\u001b[0;31mSyntaxError\u001b[0m\u001b[0;31m:\u001b[0m invalid syntax\n"
     ]
    }
   ],
   "source": [
    "// Popcorn Hack #1\n",
    "let score = 85;\n",
    "\n",
    "if (score >= 60) {\n",
    "    console.log(\"You passed!\");\n",
    "} else {\n",
    "    console.log(\"You failed! Your score is below 60.\");\n",
    "}"
   ]
  },
  {
   "cell_type": "raw",
   "metadata": {
    "vscode": {
     "languageId": "raw"
    }
   },
   "source": [
    "3.6.3 Python Hacks"
   ]
  },
  {
   "cell_type": "code",
   "execution_count": 3,
   "metadata": {},
   "outputs": [
    {
     "name": "stdout",
     "output_type": "stream",
     "text": [
      "The number 1 is Odd.\n",
      "Even\n",
      "Odd\n",
      "Even\n",
      "Odd\n",
      "Even\n"
     ]
    }
   ],
   "source": [
    "# Hack 1: Odd or Even Checker\n",
    "\n",
    "def check_odd_even(number):\n",
    "    \n",
    "    if number % 2 == 0:\n",
    "        return \"Even\"\n",
    "    else:\n",
    "        return \"Odd\"\n",
    "\n",
    "\n",
    "def get_valid_number():\n",
    "    while True:\n",
    "        user_input = input(\"Enter a number to check if it's odd or even: \")\n",
    "        if user_input.isdigit() or (user_input.startswith('-') and user_input[1:].isdigit()):\n",
    "            return int(user_input)\n",
    "        else:\n",
    "            print(\"Invalid input. Please enter a valid number.\")\n",
    "\n",
    "\n",
    "while True:\n",
    "    number = get_valid_number()\n",
    "    result = check_odd_even(number)\n",
    "    print(f\"The number {number} is {result}.\")\n",
    "    \n",
    "   \n",
    "    continue_check = input(\"Do you want to check another number? (yes/no): \").strip().lower()\n",
    "    if continue_check != 'yes':\n",
    "        break\n",
    "\n",
    "\n",
    "print(check_odd_even(4))  \n",
    "print(check_odd_even(7))  \n",
    "print(check_odd_even(10)) \n",
    "print(check_odd_even(15)) \n",
    "print(check_odd_even(0))"
   ]
  },
  {
   "cell_type": "code",
   "execution_count": 4,
   "metadata": {},
   "outputs": [
    {
     "name": "stdout",
     "output_type": "stream",
     "text": [
      "The year 1999 is Not a Leap Year.\n",
      "Leap Year\n",
      "Not a Leap Year\n",
      "Leap Year\n",
      "Not a Leap Year\n",
      "Leap Year\n"
     ]
    }
   ],
   "source": [
    "# Hack 2: Leap Year Checker\n",
    "\n",
    "def is_leap_year(year):\n",
    "    if (year % 4 == 0 and year % 100 != 0) or (year % 400 == 0):\n",
    "        return \"Leap Year\"\n",
    "    else:\n",
    "        return \"Not a Leap Year\"\n",
    "\n",
    "def get_valid_year():\n",
    "    while True:\n",
    "        user_input = input(\"Enter a year to check if it's a leap year: \")\n",
    "        if user_input.isdigit() or (user_input.startswith('-') and user_input[1:].isdigit()):\n",
    "            return int(user_input)\n",
    "        else:\n",
    "            print(\"Invalid input. Please enter a valid year.\")\n",
    "\n",
    "while True:\n",
    "    year = get_valid_year()\n",
    "    result = is_leap_year(year)\n",
    "    print(f\"The year {year} is {result}.\")\n",
    "    \n",
    "    continue_check = input(\"Do you want to check another year? (yes/no): \").strip().lower()\n",
    "    if continue_check != 'yes':\n",
    "        break\n",
    "\n",
    "print(is_leap_year(2000))  \n",
    "print(is_leap_year(1900))  \n",
    "print(is_leap_year(2024))  \n",
    "print(is_leap_year(2023))  \n",
    "print(is_leap_year(1600))"
   ]
  },
  {
   "cell_type": "code",
   "execution_count": 5,
   "metadata": {},
   "outputs": [
    {
     "name": "stdout",
     "output_type": "stream",
     "text": [
      "The temperature 100.0°F is considered Hot.\n",
      "The temperature 30.0°F is considered Cold.\n",
      "The temperature 60.0°F is considered Warm.\n",
      "Cold\n",
      "Warm\n",
      "Warm\n",
      "Moderate\n",
      "Hot\n"
     ]
    }
   ],
   "source": [
    "#Hack 3: Temperature Range Checker\n",
    "def temperature_range(temperature):\n",
    "    if temperature < 60:\n",
    "        return \"Cold\"\n",
    "    elif 60 <= temperature <= 80:\n",
    "        return \"Warm\"\n",
    "    elif temperature > 85:\n",
    "        return \"Hot\"\n",
    "    else:\n",
    "        return \"Moderate\"\n",
    "\n",
    "def get_valid_temperature():\n",
    "    while True:\n",
    "        user_input = input(\"Enter a temperature to check its range: \")\n",
    "        if user_input.replace('.', '', 1).isdigit() or (user_input.startswith('-') and user_input[1:].replace('.', '', 1).isdigit()):\n",
    "            return float(user_input)\n",
    "        else:\n",
    "            print(\"Invalid input. Please enter a valid number.\")\n",
    "\n",
    "while True:\n",
    "    temperature = get_valid_temperature()\n",
    "    result = temperature_range(temperature)\n",
    "    print(f\"The temperature {temperature}°F is considered {result}.\")\n",
    "    \n",
    "    continue_check = input(\"Do you want to check another temperature? (yes/no): \").strip().lower()\n",
    "    if continue_check != 'yes':\n",
    "        break\n",
    "\n",
    "print(temperature_range(55))  \n",
    "print(temperature_range(65))  \n",
    "print(temperature_range(75))  \n",
    "print(temperature_range(85))  \n",
    "print(temperature_range(90))"
   ]
  },
  {
   "cell_type": "raw",
   "metadata": {
    "vscode": {
     "languageId": "raw"
    }
   },
   "source": [
    "3.6.4 Javascript Hacks"
   ]
  },
  {
   "cell_type": "code",
   "execution_count": null,
   "metadata": {
    "vscode": {
     "languageId": "javascript"
    }
   },
   "outputs": [],
   "source": [
    "// Hack #2: Checking Voting Eligibility\n",
    "\n",
    "function checkVotingEligibility(age) {\n",
    "    if (age >= 18) {\n",
    "        return \"You are eligible to vote!\";\n",
    "    } else {\n",
    "        return \"You are not eligible to vote yet.\";\n",
    "    }\n",
    "}\n",
    "\n",
    "function getValidAge() {\n",
    "    while (true) {\n",
    "        let userInput = prompt(\"Enter your age to check voting eligibility: \");\n",
    "        if (!isNaN(userInput) && userInput.trim() !== \"\") {\n",
    "            return parseInt(userInput, 10);\n",
    "        } else {\n",
    "            alert(\"Invalid input. Please enter a valid age.\");\n",
    "        }\n",
    "    }\n",
    "}\n",
    "\n",
    "while (true) {\n",
    "    let age = getValidAge();\n",
    "    let result = checkVotingEligibility(age);\n",
    "    console.log(result);\n",
    "    \n",
    "    let continueCheck = prompt(\"Do you want to check another age? (yes/no): \").trim().toLowerCase();\n",
    "    if (continueCheck !== 'yes') {\n",
    "        break;\n",
    "    }\n",
    "}"
   ]
  },
  {
   "cell_type": "code",
   "execution_count": 6,
   "metadata": {
    "vscode": {
     "languageId": "javascript"
    }
   },
   "outputs": [
    {
     "ename": "SyntaxError",
     "evalue": "invalid syntax (3669959496.py, line 1)",
     "output_type": "error",
     "traceback": [
      "\u001b[0;36m  Cell \u001b[0;32mIn[6], line 1\u001b[0;36m\u001b[0m\n\u001b[0;31m    // Hack 2: Grade Calculator\u001b[0m\n\u001b[0m    ^\u001b[0m\n\u001b[0;31mSyntaxError\u001b[0m\u001b[0;31m:\u001b[0m invalid syntax\n"
     ]
    }
   ],
   "source": [
    "// Hack 2: Grade Calculator\n",
    "\n",
    "function getGrade(score) {\n",
    "    if (score >= 90) {\n",
    "        return \"Grade: A\";\n",
    "    } else if (score >= 80) {\n",
    "        return \"Grade: B\";\n",
    "    } else if (score >= 70) {\n",
    "        return \"Grade: C\";\n",
    "    } else {\n",
    "        return \"Grade: F\";\n",
    "    }\n",
    "}\n",
    "\n",
    "console.log(getGrade(95));  \n",
    "console.log(getGrade(85));  \n",
    "console.log(getGrade(75));  \n",
    "console.log(getGrade(65));  \n",
    "console.log(getGrade(50));  "
   ]
  },
  {
   "cell_type": "code",
   "execution_count": null,
   "metadata": {
    "vscode": {
     "languageId": "javascript"
    }
   },
   "outputs": [],
   "source": [
    "// Hack 3: Temperature Converter\n",
    "function convertTemperature(value, scale) {\n",
    "    if (scale === \"C\") {\n",
    "        return (value * 9/5) + 32 + \"°F\";\n",
    "    } else if (scale === \"F\") {\n",
    "        return (value - 32) * 5/9 + \"°C\";\n",
    "    } else {\n",
    "        return \"Error: Invalid scale. Use 'C' for Celsius or 'F' for Fahrenheit.\";\n",
    "    }\n",
    "}\n",
    "\n",
    "console.log(convertTemperature(0, \"C\"));    \n",
    "console.log(convertTemperature(32, \"F\"));   \n",
    "console.log(convertTemperature(100, \"C\"));  \n",
    "console.log(convertTemperature(212, \"F\"));  \n",
    "console.log(convertTemperature(50, \"X\"));   "
   ]
  }
 ],
 "metadata": {
  "kernelspec": {
   "display_name": "Python 3",
   "language": "python",
   "name": "python3"
  },
  "language_info": {
   "codemirror_mode": {
    "name": "ipython",
    "version": 3
   },
   "file_extension": ".py",
   "mimetype": "text/x-python",
   "name": "python",
   "nbconvert_exporter": "python",
   "pygments_lexer": "ipython3",
   "version": "3.12.3"
  }
 },
 "nbformat": 4,
 "nbformat_minor": 2
}
