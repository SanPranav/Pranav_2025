{
 "cells": [
  {
   "cell_type": "raw",
   "metadata": {
    "vscode": {
     "languageId": "raw"
    }
   },
   "source": [
    "---\n",
    "comments: false\n",
    "layout: post\n",
    "title: Simulation Blog\n",
    "description: Simulation Blog Hacks\n",
    "type: collab\n",
    "---"
   ]
  },
  {
   "cell_type": "code",
   "execution_count": 22,
   "metadata": {},
   "outputs": [
    {
     "name": "stdout",
     "output_type": "stream",
     "text": [
      "Dice roll: 5\n"
     ]
    }
   ],
   "source": [
    "# Popcorn Hack #1\n",
    "import random\n",
    "\n",
    "def roll_dice():\n",
    "    def roll():\n",
    "        return random.randint(1, 6)\n",
    "    return roll()\n",
    "\n",
    "print(\"Dice roll:\", roll_dice())"
   ]
  },
  {
   "cell_type": "code",
   "execution_count": 25,
   "metadata": {},
   "outputs": [
    {
     "name": "stdout",
     "output_type": "stream",
     "text": [
      "Red\n",
      "Blue\n",
      "Blue\n",
      "Red\n",
      "Blue\n",
      "Blue\n",
      "Blue\n",
      "Blue\n",
      "Blue\n",
      "Red\n"
     ]
    }
   ],
   "source": [
    "# Popcorn Hack #2\n",
    "import random\n",
    "\n",
    "def biased_color():\n",
    "    colors = ['Red', 'Blue', 'Green', 'Yellow', 'Purple']\n",
    "    probabilities = [0.5, 0.3, 0.05, 0.05, 0.1]  \n",
    "    return random.choices(colors, probabilities)[0]\n",
    "\n",
    "for _ in range(10):\n",
    "    print(biased_color())\n"
   ]
  },
  {
   "cell_type": "code",
   "execution_count": 26,
   "metadata": {},
   "outputs": [
    {
     "name": "stdout",
     "output_type": "stream",
     "text": [
      "Player 2 wins after 7 rounds!\n"
     ]
    }
   ],
   "source": [
    "import random\n",
    "\n",
    "# Homework Hack #1 - Coin Flip Win Simulation\n",
    "\n",
    "def coin_flip_game():\n",
    "    player1_heads = 0\n",
    "    player2_heads = 0\n",
    "    rounds = 0\n",
    "\n",
    "    while player1_heads < 3 and player2_heads < 3:\n",
    "        rounds += 1\n",
    "        player1_flip = random.choice([\"heads\", \"tails\"])\n",
    "        player2_flip = random.choice([\"heads\", \"tails\"])\n",
    "\n",
    "        if player1_flip == \"heads\":\n",
    "            player1_heads += 1\n",
    "        if player2_flip == \"heads\":\n",
    "            player2_heads += 1\n",
    "\n",
    "    if player1_heads == 3:\n",
    "        print(f\"Player 1 wins after {rounds} rounds!\")\n",
    "    else:\n",
    "        print(f\"Player 2 wins after {rounds} rounds!\")\n",
    "\n",
    "coin_flip_game()"
   ]
  }
 ],
 "metadata": {
  "kernelspec": {
   "display_name": "venv",
   "language": "python",
   "name": "python3"
  },
  "language_info": {
   "codemirror_mode": {
    "name": "ipython",
    "version": 3
   },
   "file_extension": ".py",
   "mimetype": "text/x-python",
   "name": "python",
   "nbconvert_exporter": "python",
   "pygments_lexer": "ipython3",
   "version": "3.12.3"
  },
  "orig_nbformat": 4
 },
 "nbformat": 4,
 "nbformat_minor": 2
}
