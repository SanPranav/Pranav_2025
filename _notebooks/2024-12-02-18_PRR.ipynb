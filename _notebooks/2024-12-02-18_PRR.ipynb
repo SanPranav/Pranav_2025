{
 "cells": [
  {
   "cell_type": "raw",
   "metadata": {
    "vscode": {
     "languageId": "raw"
    }
   },
   "source": [
    "---\n",
    "comments: false\n",
    "layout: post\n",
    "title: Practice Review Reflection\n",
    "description: A Practice Review Reflection on my experience for CSP tri 2.\n",
    "type: collab\n",
    "---"
   ]
  },
  {
   "cell_type": "markdown",
   "metadata": {},
   "source": [
    "\n",
    "# Peer Grade (Done After Live Review - Rayhaan Sheeraj)\n",
    "\n",
    "| Category                          | Points | Description                                                                                                                                                       | Peer Grade |\n",
    "| --------------------------------- | ------ | ----------------------------------------------------------------------------------------------------------------------------------------------------------------- | ---------- |\n",
    "| **Five tasks over 12 weeks**      | 5      | List five things completed, including issues addressed, burndown tracking, and presentation work.                                                                 |        4.6   |\n",
    "| **Full Stack Project Demo**       | 2      | Demonstrate the project, highlight CPT requirements, and incorporate N@tM feedback.                                                                              |    1.9        |\n",
    "| **Project Feature Blog Write-up** | 1      | Use CPT/FRQ language to write a structured blog post on project features.                                                                                        |      .92      |\n",
    "| **MCQ Completion**                | 1      | Successfully complete and reflect on multiple-choice questions.                                                                                                   |      1      |\n",
    "| **Retrospective Reflection**      | 1      | - Reflect on strengths and weaknesses<br> - Create next steps plans for improvement<br> - Engage with peer projects and document interests<br> - Think about future steps in CompSci, classes, college, internships, or career<br> - Help a new peer with final exam prep or conduct a live review with Ms. Pataki<br> - Send a detailed summary of review points 24 hours in advance, including a self-grade assessment |      .9      |\n",
    "| **Total**                         | 10     | Maximum possible score. | 9.32 |\n",
    "\n",
    "\n",
    "## Feedback\n",
    "- Add images to your Big 5 Issue\n",
    "- highlight specific CPT requirements during the demo\n",
    "- Incorporate code blocks into the project feature blog\n",
    "- Focus on talking about only the key details during the live review so it isn't over 3 minutes\n",
    "\n",
    "## Improvements\n",
    "- Added Images\n",
    "- Highlighted CPT Requirements on take 2.\n",
    "- Incorporated stronger code blocks\n",
    "- Talked about my main strong details so I wouldn't go overtime on take 2.\n"
   ]
  }
 ],
 "metadata": {
  "kernelspec": {
   "display_name": "Python 3",
   "language": "python",
   "name": "python3"
  },
  "language_info": {
   "codemirror_mode": {
    "name": "ipython",
    "version": 3
   },
   "file_extension": ".py",
   "mimetype": "text/x-python",
   "name": "python",
   "nbconvert_exporter": "python",
   "pygments_lexer": "ipython3",
   "version": "3.12.3"
  },
  "orig_nbformat": 4
 },
 "nbformat": 4,
 "nbformat_minor": 2
}
