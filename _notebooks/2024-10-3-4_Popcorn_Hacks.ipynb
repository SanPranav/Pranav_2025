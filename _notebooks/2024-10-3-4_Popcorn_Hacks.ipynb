{
 "cells": [
  {
   "cell_type": "raw",
   "metadata": {
    "vscode": {
     "languageId": "raw"
    }
   },
   "source": [
    "---\n",
    "layout: post\n",
    "title: Homework Hacks 3.4\n",
    "description: Homework Hacks 3.4\n",
    "type: collab\n",
    "comments: true\n",
    "---"
   ]
  },
  {
   "cell_type": "code",
   "execution_count": 2,
   "metadata": {
    "vscode": {
     "languageId": "javascript"
    }
   },
   "outputs": [
    {
     "name": "stdout",
     "output_type": "stream",
     "text": [
      "The title 'Twinkle, twinkle, little star' appears 4 times in the lyrics.\n",
      "The index of the 50th word is 'Twinkle,' at index 1.\n",
      "\n",
      "Modified Lyrics:\n",
      "\n",
      "Twinkle, twinkle, little star,\n",
      "How I wonder what you are!\n",
      "\n",
      "Twinkle, twinkle, little star,\n",
      "How I wonder what you are!\n",
      "When the blazing sun is gone,\n",
      "When he nothing shines upon.\n",
      "\n",
      "Then you show your little light,\n",
      "Twinkle, twinkle, all the night.\n",
      "Twinkle, twinkle, little star,\n",
      "How I wonder what you are!\n",
      "\n",
      "In the dark blue sky you keep,\n",
      "And often through my curtains peep,\n",
      "For you never shut your eye\n",
      "Till the sun is in the sky.\n",
      "\n",
      "Twinkle, twinkle, little star,\n",
      "How I wonder what you are!\n",
      "\n",
      "\n",
      "New Verse:\n",
      "Twinkle, twinkle, little star,\n",
      "How I wonder what you are!\n",
      "When the blazing sun is gone,\n",
      "When he nothing shines upon.\n",
      "\n",
      "Then you show your little light,\n",
      "Twinkle, twinkle, all the night.\n",
      "Twinkle, twinkle, little star,\n",
      "How I wonder what you are!\n"
     ]
    }
   ],
   "source": [
    "# Popcorn Hack #1\n",
    "\n",
    "lyrics = \"\"\"\n",
    "Twinkle, twinkle, little star,\n",
    "How I wonder what you are!\n",
    "Up above the world so high,\n",
    "Like a diamond in the sky.\n",
    "\n",
    "Twinkle, twinkle, little star,\n",
    "How I wonder what you are!\n",
    "When the blazing sun is gone,\n",
    "When he nothing shines upon.\n",
    "\n",
    "Then you show your little light,\n",
    "Twinkle, twinkle, all the night.\n",
    "Twinkle, twinkle, little star,\n",
    "How I wonder what you are!\n",
    "\n",
    "In the dark blue sky you keep,\n",
    "And often through my curtains peep,\n",
    "For you never shut your eye\n",
    "Till the sun is in the sky.\n",
    "\n",
    "Twinkle, twinkle, little star,\n",
    "How I wonder what you are!\n",
    "\"\"\"\n",
    "\n",
    "\n",
    "title = \"Twinkle, twinkle, little star\"\n",
    "title_count = lyrics.lower().count(title.lower())\n",
    "print(\"The title '\" + title + \"' appears \" + str(title_count) + \" times in the lyrics.\")\n",
    "\n",
    "\n",
    "words = lyrics.split()\n",
    "if len(words) >= 50:\n",
    "    index_50th_word = lyrics.find(words[49])\n",
    "    print(\"The index of the 50th word is '\" + words[49] + \"' at index \" + str(index_50th_word) + \".\")\n",
    "else:\n",
    "    print(\"The lyrics do not contain 50 words.\")\n",
    "\n",
    "\n",
    "verses = lyrics.strip().split(\"\\n\\n\")\n",
    "first_verse = verses[0]\n",
    "last_verse = verses[-1]\n",
    "lyrics_modified = lyrics.replace(first_verse, last_verse, 1)\n",
    "print(\"\\nModified Lyrics:\")\n",
    "print(lyrics_modified)\n",
    "\n",
    "\n",
    "if len(verses) > 2:\n",
    "    new_verse = verses[1] + \"\\n\\n\" + verses[2]\n",
    "    print(\"\\nNew Verse:\")\n",
    "    print(new_verse)\n",
    "else:\n",
    "    print(\"Not enough verses to create a new verse.\")"
   ]
  },
  {
   "cell_type": "code",
   "execution_count": 7,
   "metadata": {
    "vscode": {
     "languageId": "javascript"
    }
   },
   "outputs": [
    {
     "ename": "SyntaxError",
     "evalue": "invalid syntax (2434148190.py, line 1)",
     "output_type": "error",
     "traceback": [
      "\u001b[0;36m  Cell \u001b[0;32mIn[7], line 1\u001b[0;36m\u001b[0m\n\u001b[0;31m    const flower = \"Tulip\";\u001b[0m\n\u001b[0m          ^\u001b[0m\n\u001b[0;31mSyntaxError\u001b[0m\u001b[0;31m:\u001b[0m invalid syntax\n"
     ]
    }
   ],
   "source": [
    "const flower = \"Tulip\";\n",
    "const animal = \"Dog\";\n",
    "const newCreature = `${flower}-${animal}`;\n",
    "\n",
    "console.log(\"Introducing the new creature:\", newCreature);\n",
    "\n",
    "let creatureName = \"Tulipup\";\n",
    "let habitat = \"magical garden\";\n",
    "\n",
    "let story = `\n",
    "In a dense ${habitat}, where the sunlight filtered through the trees and vibrant flowers blossomed, lived a unique creature known as the ${creatureName}. This fascinating being combined the beauty of a ${flower} with the cleverness of a ${animal}.\n",
    "\n",
    "One day, a traveler named Pranav, exploring the ${habitat}, came across the ${creatureName}. Curious, he approached and asked, \"What makes you so special?\"\n",
    "\n",
    "The ${creatureName} replied with a smile, \"I blend the charm of a ${flower} with the sharpness of a ${animal}. I can guide you through these woods and show you hidden wonders!\"\n",
    "\n",
    "Intrigued, Pranav agreed. Together, they set off on an adventure, discovering hidden glades and sparkling streams. The ${creatureName} shared stories about the garden, revealing its secrets.\n",
    "`;\n",
    "\n",
    "console.log(story);"
   ]
  },
  {
   "cell_type": "code",
   "execution_count": 9,
   "metadata": {},
   "outputs": [
    {
     "name": "stdout",
     "output_type": "stream",
     "text": [
      "\n",
      "Original String: Hi, my name is Pranav Santhosh and I enjoy Coding!\n",
      "Total Characters (including spaces): 50\n",
      "Longest Word: Santhosh with 8 characters\n",
      "Reversed String: !gnidoC yojne I dna hsohtnaS vanarP si eman ym ,iH\n",
      "Middle Character(s): t\n"
     ]
    }
   ],
   "source": [
    "def text_analyzer():\n",
    "    original_string = input(\"Enter a sentence or a series of words: \")\n",
    "    print(\"\\nOriginal String:\", original_string)\n",
    "    print(\"Total Characters (including spaces):\", len(original_string))\n",
    "    \n",
    "    words = original_string.split()\n",
    "    longest_word = max(words, key=len)\n",
    "    print(\"Longest Word:\", longest_word, \"with\", len(longest_word), \"characters\")\n",
    "    \n",
    "    print(\"Reversed String:\", original_string[::-1])\n",
    "    \n",
    "    cleaned_string = ''.join(filter(str.isalnum, original_string))\n",
    "    mid_index = len(cleaned_string) // 2\n",
    "    middle_character = cleaned_string[mid_index] if len(cleaned_string) % 2 != 0 else cleaned_string[mid_index-1:mid_index+1]\n",
    "    print(\"Middle Character(s):\", middle_character)\n",
    "    \n",
    "    if input(\"\\nReplace a word? (yes/no): \").strip().lower() == 'yes':\n",
    "        word_to_replace = input(\"Word to replace: \")\n",
    "        print(\"Modified String:\", original_string.replace(word_to_replace, input(\"Replace with: \")) if word_to_replace in original_string else f\"The word '{word_to_replace}' is not found.\")\n",
    "\n",
    "text_analyzer()"
   ]
  }
 ],
 "metadata": {
  "kernelspec": {
   "display_name": "Python 3",
   "language": "python",
   "name": "python3"
  },
  "language_info": {
   "codemirror_mode": {
    "name": "ipython",
    "version": 3
   },
   "file_extension": ".py",
   "mimetype": "text/x-python",
   "name": "python",
   "nbconvert_exporter": "python",
   "pygments_lexer": "ipython3",
   "version": "3.12.3"
  }
 },
 "nbformat": 4,
 "nbformat_minor": 2
}
