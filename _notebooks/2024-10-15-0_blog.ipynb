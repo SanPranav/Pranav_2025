{
 "cells": [
  {
   "cell_type": "raw",
   "metadata": {
    "vscode": {
     "languageId": "raw"
    }
   },
   "source": [
    "---\n",
    "layout: post\n",
    "title: Unit 2-Individual Blog\n",
    "description: Unit 2-Individual Blog\n",
    "type: collab\n",
    "comments: true\n",
    "---"
   ]
  },
  {
   "cell_type": "markdown",
   "metadata": {
    "vscode": {
     "languageId": "raw"
    }
   },
   "source": [
    "# 3.3 Summary (We Taught)\n",
    "## Algorithms\n",
    "Definition of an algorithm: A set of instructions to do a task.\n",
    "### Parts of an Algorithm\n",
    "#### Sequencing:\n",
    "The order of the steps, how they are done. For example, baking cookies: You make the dough, and then prepare it. Not the other way around.\n",
    "#### Selection:\n",
    "Conditional Statements used to decide the process of a program: If ____ then _____. \n",
    "#### Iteration:\n",
    "Repeating steps of the algorithm until something is done or finished. Such as, keep on cutting the watermelon until there is x amount of parts.\n",
    "Example: "
   ]
  },
  {
   "cell_type": "code",
   "execution_count": null,
   "metadata": {},
   "outputs": [],
   "source": [
    "#Example 1: Algorithm for cutting fruits\n",
    "# Function to cut fruits\n",
    "def cut_fruits():\n",
    "    # Sequencing: The steps must happen in the order of the code.\n",
    "    print(\"Step 1: Wash the fruits.\")\n",
    "    print(\"Step 2: Peel the fruits if necessary.\")\n",
    "    \n",
    "    # Selection: Making a decision based on a condition.\n",
    "    fruit_type = input(\"What type of fruit are you cutting? (apple, orange, or banana)\").strip().lower()\n",
    "    \n",
    "    if fruit_type == \"apple\":\n",
    "        print(\"Step 3: Cut the apple into slices.\")\n",
    "    elif fruit_type == \"orange\":\n",
    "        print(\"Step 3: Peel and separate the orange slices.\")\n",
    "    elif fruit_type == \"banana\":\n",
    "        print(\"Step 3: Peel and cut the banana into chunks.\")\n",
    "    else:\n",
    "        print(\"Step 3: Fruit not recognized, proceed with cutting as desired.\")\n",
    "    \n",
    "    print(\"Step 4: Serve the fruits.\")\n",
    "\n",
    "    # Iteration: Repeat slicing until you finish all the fruits.\n",
    "    fruits_left = int(input(\"How many more fruits do you have to cut? \"))\n",
    "    \n",
    "    while fruits_left > 0:\n",
    "        print(\"Cutting another fruit...\")\n",
    "        fruits_left -= 1\n",
    "    \n",
    "    print(\"All fruits are cut and ready to serve!\")\n",
    "\n",
    "cut_fruits()"
   ]
  },
  {
   "cell_type": "markdown",
   "metadata": {},
   "source": [
    "## Mathematical Operations"
   ]
  },
  {
   "cell_type": "markdown",
   "metadata": {},
   "source": [
    "| Operation        | Symbol     | Description                       |\n",
    "|------------------|------------|-----------------------------------|\n",
    "| Addition         | +          | Sum of `a` and `b`                |\n",
    "| Subtraction      | -          | Difference of `a` and `b`         |\n",
    "| Multiplication   | *          | Product of `a` and `b`            |\n",
    "| Division         | /          | Quotient of `a` divided by `b`    |\n",
    "| Modulus          | %          | Remainder of `a` divided by `b`   |"
   ]
  },
  {
   "cell_type": "markdown",
   "metadata": {},
   "source": [
    "# 3.5 Summary (We Taught)\n",
    "## Relational operators in JavaScript/Python are used to compare two values, returning a Boolean (true or false). Common operators include:\n",
    "- `==`: Equal to (checks value equality).\n",
    "- `!=`: Not equal to (checks value inequality).\n",
    "- `===`: Strictly equal (checks value and type).\n",
    "- `!==`: Strictly not equal (checks inequality in value and type).\n",
    "- `>` and `<`: Greater than / Less than.\n",
    "- `>=` and `<=`: Greater than or equal to / Less than or equal to.\n",
    "\n",
    "These are useful in everyday scenarios, like comparing ages or verifying passwords.\n"
   ]
  },
  {
   "cell_type": "code",
   "execution_count": null,
   "metadata": {},
   "outputs": [],
   "source": [
    "#Example 2: Using Relational Operators\n",
    "a = 5\n",
    "b = 10\n",
    "\n",
    "print(a == b)  # Equal to\n",
    "print(a != b)  # Not equal to\n",
    "print(a > b)   # Greater than\n",
    "print(a < b)   # Less than\n",
    "print(a >= b)  # Greater than or equal to\n",
    "print(a <= b)  # Less than or equal to"
   ]
  },
  {
   "cell_type": "markdown",
   "metadata": {},
   "source": [
    "# Hacks Done\n",
    "Below is a table linking to all my other 3. blank hacks.\n",
    "\n",
    "| Hack Number | Description                  | Link                                    |\n",
    "|-------------|------------------------------|-----------------------------------------|\n",
    "| Hack 3.1    | Homework Hacks 3.1           | [Hack 3.1](/_notebooks/2024-10-3-1_Hacks.ipynb) |\n",
    "| Hack 3.2    | Homework Hacks 3.2           | [Hack 3.2](/_notebooks/2024-10-3-2_Hacks.ipynb) |\n",
    "| Hack 3.4    | Homework Hacks 3.4           | [Hack 3.4](/_notebooks/2024-10-3-4_Hacks.ipynb) |\n",
    "| Hack 3.6    | Homework Hacks 3.6           | [Hack 3.6](/_notebooks/2024-10-3-6_Hacks.ipynb) |\n",
    "| Hack 3.7    | Homework Hacks 3.7           | [Hack 3.7](/_notebooks/2024-10-3-7_Hacks.ipynb) |\n",
    "| Hack 3.8    | Homework Hacks 3.8           | [Hack 3.8](/_notebooks/2024-10-3-8_Hacks.ipynb) |\n",
    "| Hack 3.10A  | Homework Hacks 3.10A         | [Hack 3.10A](/_notebooks/2024-10-3-10A_Hacks.ipynb) |\n",
    "| Hack 3.10B  | Homework Hacks 3.10B         | [Hack 3.10B](/_notebooks/2024-10-3-10B_Hacks.ipynb) |\n",
    "\n",
    "## Summary of What We Learned\n",
    "\n",
    "### Hack 3.1: Homework Hacks 3.1\n",
    "In this hack, we covered the basics of arithmetic operations in Python. We learned how to perform addition, subtraction, multiplication, division, and modulus operations. This hack provided a solid foundation for understanding how to manipulate numerical data in Python.\n",
    "\n",
    "### Hack 3.2: Homework Hacks 3.2\n",
    "This hack focused on advanced arithmetic operations and introduced us to concepts like exponentiation and floor division. We also explored the use of built-in mathematical functions to perform complex calculations.\n",
    "\n",
    "### Hack 3.4: Homework Hacks 3.4\n",
    "This hack focused on string manipulation techniques. We explored various methods to manipulate strings, including concatenation, slicing, and formatting. Understanding these techniques is crucial for handling text data effectively in Python.\n",
    "\n",
    "### Hack 3.6: Homework Hacks 3.6\n",
    "In this hack, we delved into data structures. We learned about lists, dictionaries, and sets, and how to use them to store and manipulate collections of data. This knowledge is essential for organizing and accessing data efficiently in Python.\n",
    "\n",
    "### Hack 3.7: Homework Hacks 3.7\n",
    "This hack introduced us to control flow statements. We covered if-else statements, loops, and how to use them to control the execution of code based on certain conditions. Mastering control flow is key to writing dynamic and responsive programs.\n",
    "\n",
    "### Hack 3.8: Homework Hacks 3.8\n",
    "In this hack, we explored functions and modular programming. We learned how to define and call functions, pass arguments, and return values. This hack emphasized the importance of breaking down code into reusable and manageable pieces.\n",
    "\n",
    "### Hack 3.10A: Homework Hacks 3.10A\n",
    "This hack focused on file handling in Python. We learned how to read from and write to files, handle exceptions, and work with different file formats. This is crucial for managing data persistence in applications.\n",
    "\n",
    "### Hack 3.10B: Homework Hacks 3.10B\n",
    "In this hack, we explored working with external libraries and APIs. We learned how to install and use third-party libraries, make HTTP requests, and process JSON data. This hack highlighted the importance of leveraging external resources to extend the functionality of our programs."
   ]
  }
 ],
 "metadata": {
  "kernelspec": {
   "display_name": "Python 3",
   "language": "python",
   "name": "python3"
  },
  "language_info": {
   "codemirror_mode": {
    "name": "ipython",
    "version": 3
   },
   "file_extension": ".py",
   "mimetype": "text/x-python",
   "name": "python",
   "nbconvert_exporter": "python",
   "pygments_lexer": "ipython3",
   "version": "3.12.3"
  }
 },
 "nbformat": 4,
 "nbformat_minor": 2
}
