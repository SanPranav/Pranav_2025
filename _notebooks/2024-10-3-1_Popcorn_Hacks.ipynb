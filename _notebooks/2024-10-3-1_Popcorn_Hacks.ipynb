{
 "cells": [
  {
   "cell_type": "raw",
   "metadata": {
    "vscode": {
     "languageId": "raw"
    }
   },
   "source": [
    "---\n",
    "layout: post\n",
    "title: Homework Hacks 3.1\n",
    "description: Homework Hacks 3.1\n",
    "type: collab\n",
    "comments: true\n",
    "---"
   ]
  },
  {
   "cell_type": "code",
   "execution_count": 12,
   "metadata": {},
   "outputs": [
    {
     "name": "stdout",
     "output_type": "stream",
     "text": [
      "Kiruthic Anvay Yuva Pranav Rayhaan\n"
     ]
    }
   ],
   "source": [
    "#Popcorn Hack #1\n",
    "group_one = \"Kiruthic\"\n",
    "GroupOne = \"Anvay\"\n",
    "groupOne = \"Yuva\"\n",
    "GROUPONE = \"Pranav\"\n",
    "groupone = \"Rayhaan\"\n",
    "\n",
    "print(group_one, GroupOne, groupOne, GROUPONE, groupone)"
   ]
  },
  {
   "cell_type": "code",
   "execution_count": 13,
   "metadata": {
    "vscode": {
     "languageId": "javascript"
    }
   },
   "outputs": [
    {
     "name": "stdout",
     "output_type": "stream",
     "text": [
      "Concatenation\n",
      "Example: I have 5 Apples, and they are Red.\n",
      "Example: I have 2 Pineapples, and they are Yellow.\n",
      "Example: I have 7 Mangos, and they are Orange.\n",
      "Example: I have 10 Bananas, and they are Yellow.\n",
      "Example: I have 15 Grapess, and they are Purple.\n",
      "\n",
      "F-strings\n",
      "Example: I have 5 Apples, and they are Red.\n",
      "Example: I have 2 Pineapples, and they are Yellow.\n",
      "Example: I have 7 Mangos, and they are Orange.\n",
      "Example: I have 10 Bananas, and they are Yellow.\n",
      "Example: I have 15 Grapess, and they are Purple.\n",
      "\n",
      "Separate the variable in the print statement\n",
      "Example: I have 5 Apples, and they are Red.\n",
      "Example: I have 2 Pineapples, and they are Yellow.\n",
      "Example: I have 7 Mangos, and they are Orange.\n",
      "Example: I have 10 Bananas, and they are Yellow.\n",
      "Example: I have 15 Grapess, and they are Purple.\n"
     ]
    }
   ],
   "source": [
    "// Popcorn Hack #2\n",
    "fruit_info = [\n",
    "    {\"name\": \"Apple\", \"color\": \"Red\", \"quantity\": 5},\n",
    "    {\"name\": \"Pineapple\", \"color\": \"Yellow\", \"quantity\": 2},\n",
    "    {\"name\": \"Mango\", \"color\": \"Orange\", \"quantity\": 7},\n",
    "    {\"name\": \"Banana\", \"color\": \"Yellow\", \"quantity\": 10},\n",
    "    {\"name\": \"Grapes\", \"color\": \"Purple\", \"quantity\": 15}\n",
    "]\n",
    "\n",
    "print(\"Concatenation\")\n",
    "for fruit in fruit_info:\n",
    "    print(\"Example: I have \" + str(fruit[\"quantity\"]) + \" \" + fruit[\"name\"] + \"s, and they are \" + fruit[\"color\"] + \".\")\n",
    "\n",
    "print()\n",
    "print(\"F-strings\")\n",
    "for fruit in fruit_info:\n",
    "    print(f\"Example: I have {fruit['quantity']} {fruit['name']}s, and they are {fruit['color']}.\")\n",
    "\n",
    "print()\n",
    "print(\"Separate the variable in the print statement\")\n",
    "for fruit in fruit_info:\n",
    "    print(\"Example: I have\", fruit[\"quantity\"], fruit[\"name\"] + \"s,\", \"and they are\", fruit[\"color\"] + \".\")"
   ]
  },
  {
   "cell_type": "code",
   "execution_count": 44,
   "metadata": {
    "vscode": {
     "languageId": "javascript"
    }
   },
   "outputs": [
    {
     "ename": "SyntaxError",
     "evalue": "invalid syntax (3408839326.py, line 1)",
     "output_type": "error",
     "traceback": [
      "\u001b[0;36m  Cell \u001b[0;32mIn[44], line 1\u001b[0;36m\u001b[0m\n\u001b[0;31m    // Popcorn Hack #3\u001b[0m\n\u001b[0m    ^\u001b[0m\n\u001b[0;31mSyntaxError\u001b[0m\u001b[0;31m:\u001b[0m invalid syntax\n"
     ]
    }
   ],
   "source": [
    "// Popcorn Hack #3\n",
    "const car = {\n",
    "    make: \"Toyota\",\n",
    "    model: \"Corolla\",\n",
    "    color: \"White\",\n",
    "    year: 2020\n",
    "};\n",
    "\n",
    "console.log(\"Initial car details:\", car);\n",
    "\n",
    "car.color = \"Red\";\n",
    "car.year = 2021;\n",
    "\n",
    "console.log(\"Updated car details:\", car);"
   ]
  },
  {
   "cell_type": "code",
   "execution_count": null,
   "metadata": {
    "vscode": {
     "languageId": "javascript"
    }
   },
   "outputs": [],
   "source": [
    "// Popcorn Hack #4\n",
    "const Array = [\"Hello, World!\", 3.15];"
   ]
  },
  {
   "cell_type": "code",
   "execution_count": 45,
   "metadata": {
    "vscode": {
     "languageId": "javascript"
    }
   },
   "outputs": [
    {
     "ename": "SyntaxError",
     "evalue": "invalid syntax (3241964907.py, line 1)",
     "output_type": "error",
     "traceback": [
      "\u001b[0;36m  Cell \u001b[0;32mIn[45], line 1\u001b[0;36m\u001b[0m\n\u001b[0;31m    // Homework Hack #1\u001b[0m\n\u001b[0m    ^\u001b[0m\n\u001b[0;31mSyntaxError\u001b[0m\u001b[0;31m:\u001b[0m invalid syntax\n"
     ]
    }
   ],
   "source": [
    "// Homework Hack #1\n",
    "const computerName = \"Dell XPS 13\";\n",
    "\n",
    "\n",
    "let computerColor = \"Silver\";\n",
    "\n",
    "\n",
    "let computerType = \"Laptop\";\n",
    "\n",
    "\n",
    "console.log(\"Computer Name:\", computerName);\n",
    "console.log(\"Computer Color:\", computerColor);\n",
    "console.log(\"Computer Type:\", computerType);\n",
    "\n",
    "\n",
    "function describeComputer(name, color, type) {\n",
    "    return `The ${name} is ${color} and is a ${type}.`;\n",
    "}\n",
    "\n",
    "console.log(describeComputer(computerName, computerColor, computerType));\n"
   ]
  },
  {
   "cell_type": "code",
   "execution_count": 8,
   "metadata": {},
   "outputs": [
    {
     "name": "stdout",
     "output_type": "stream",
     "text": [
      "Grades:  85 90 95 92 88\n",
      "Total Grades:  450\n",
      "Average Grade:  90.0\n",
      "Student Info: Name: Pranav Santhosh , Age: 16 , Average Grade: 90.0\n"
     ]
    }
   ],
   "source": [
    "#Homework Hack #2\n",
    "grade1 = 85\n",
    "grade2 = 90\n",
    "grade3 = 95\n",
    "grade4 = 92\n",
    "grade5 = 88\n",
    "\n",
    "total_grades = grade1 + grade2 + grade3 + grade4 + grade5\n",
    "average_grade = total_grades / 5\n",
    "\n",
    "student_info = [\"Pranav Santhosh\", 16, average_grade]\n",
    "\n",
    "print(\"Grades: \", grade1, grade2, grade3, grade4, grade5)\n",
    "print(\"Total Grades: \", total_grades)\n",
    "print(\"Average Grade: \", average_grade)\n",
    "\n",
    "print(\"Student Info: Name:\", student_info[0], \", Age:\", student_info[1], \", Average Grade:\", student_info[2])\n"
   ]
  }
 ],
 "metadata": {
  "kernelspec": {
   "display_name": "Python 3",
   "language": "python",
   "name": "python3"
  },
  "language_info": {
   "codemirror_mode": {
    "name": "ipython",
    "version": 3
   },
   "file_extension": ".py",
   "mimetype": "text/x-python",
   "name": "python",
   "nbconvert_exporter": "python",
   "pygments_lexer": "ipython3",
   "version": "3.12.3"
  }
 },
 "nbformat": 4,
 "nbformat_minor": 2
}
