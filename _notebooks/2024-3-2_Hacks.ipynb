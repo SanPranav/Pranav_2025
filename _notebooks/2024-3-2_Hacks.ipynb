{
 "cells": [
  {
   "cell_type": "raw",
   "metadata": {
    "vscode": {
     "languageId": "raw"
    }
   },
   "source": [
    "---\n",
    "layout: post\n",
    "title: Homework Hacks 3.2\n",
    "description: Homework Hacks 3.2\n",
    "type: collab\n",
    "comments: true\n",
    "---"
   ]
  },
  {
   "cell_type": "code",
   "execution_count": 1,
   "metadata": {},
   "outputs": [
    {
     "name": "stdout",
     "output_type": "stream",
     "text": [
      "Step 1 - Initial Set: {1, 2, 3, 4, 5}\n",
      "Step 2 - After Adding 6: {1, 2, 3, 4, 5, 6}\n",
      "Step 3 - After Removing 2: {1, 3, 4, 5, 6}\n",
      "Step 4 - After Union with {7, 8, 9}: {1, 3, 4, 5, 6, 7, 8, 9}\n",
      "Step 5 - After Clearing the Set: set()\n",
      "Bonus - Set with Duplicates: {1, 2, 3, 4}\n",
      "Bonus - Length of Set: 4\n"
     ]
    }
   ],
   "source": [
    "# Homework Hack #1\n",
    "my_set = {1, 2, 3, 4, 5}\n",
    "print(\"Step 1 - Initial Set:\", my_set)\n",
    "\n",
    "my_set.add(6)\n",
    "print(\"Step 2 - After Adding 6:\", my_set)\n",
    "\n",
    "my_set.remove(2)\n",
    "print(\"Step 3 - After Removing 2:\", my_set)\n",
    "\n",
    "new_set = {7, 8, 9}\n",
    "my_set = my_set.union(new_set)\n",
    "print(\"Step 4 - After Union with {7, 8, 9}:\", my_set)\n",
    "\n",
    "my_set.clear()\n",
    "print(\"Step 5 - After Clearing the Set:\", my_set)\n",
    "\n",
    "duplicate_set = {1, 2, 2, 3, 3, 4}\n",
    "print(\"Bonus - Set with Duplicates:\", duplicate_set)\n",
    "length = len(duplicate_set)\n",
    "print(\"Bonus - Length of Set:\", length)"
   ]
  },
  {
   "cell_type": "code",
   "execution_count": 2,
   "metadata": {},
   "outputs": [
    {
     "name": "stdout",
     "output_type": "stream",
     "text": [
      "Step 1 - Initial String: Learning Python is not fun\n",
      "Step 2 - Length of String: 26\n",
      "Step 3 - Extracted String: Python\n",
      "Step 4 - Uppercase String: LEARNING PYTHON IS NOT FUN\n",
      "Step 5 - Replaced String: Learning Python is not good\n",
      "Bonus - Reversed String: nuf ton si nohtyP gninraeL\n"
     ]
    }
   ],
   "source": [
    "# Homework Hack #2\n",
    "my_string = \"Learning Python is not fun\"\n",
    "print(\"Step 1 - Initial String:\", my_string)\n",
    "\n",
    "string_length = len(my_string)\n",
    "print(\"Step 2 - Length of String:\", string_length)\n",
    "\n",
    "extracted_string = my_string[9:15]  # Python starts at index 9 and ends before index 15\n",
    "print(\"Step 3 - Extracted String:\", extracted_string)\n",
    "\n",
    "uppercase_string = my_string.upper()\n",
    "print(\"Step 4 - Uppercase String:\", uppercase_string)\n",
    "\n",
    "replaced_string = my_string.replace(\"fun\", \"good\")\n",
    "print(\"Step 5 - Replaced String:\", replaced_string)\n",
    "\n",
    "reversed_string = my_string[::-1]\n",
    "print(\"Bonus - Reversed String:\", reversed_string)\n"
   ]
  },
  {
   "cell_type": "code",
   "execution_count": 3,
   "metadata": {},
   "outputs": [
    {
     "name": "stdout",
     "output_type": "stream",
     "text": [
      "Step 1 - Initial List: [3, 5, 7, 9, 11]\n",
      "Step 2 - Third Element: 7\n",
      "Step 3 - After Modifying Second Element: [3, 6, 7, 9, 11]\n",
      "Step 4 - After Appending 13: [3, 6, 7, 9, 11, 13]\n",
      "Step 5 - After Removing 9: [3, 6, 7, 11, 13]\n",
      "Bonus - Sorted List in Descending Order: [13, 11, 7, 6, 3]\n"
     ]
    }
   ],
   "source": [
    "# Homework Hack #3\n",
    "my_list = [3, 5, 7, 9, 11]\n",
    "print(\"Step 1 - Initial List:\", my_list)\n",
    "\n",
    "third_element = my_list[2]  \n",
    "print(\"Step 2 - Third Element:\", third_element)\n",
    "\n",
    "my_list[1] = 6  \n",
    "print(\"Step 3 - After Modifying Second Element:\", my_list)\n",
    "\n",
    "my_list.append(13)\n",
    "print(\"Step 4 - After Appending 13:\", my_list)\n",
    "\n",
    "my_list.remove(9)\n",
    "print(\"Step 5 - After Removing 9:\", my_list)\n",
    "\n",
    "my_list.sort(reverse=True)\n",
    "print(\"Bonus - Sorted List in Descending Order:\", my_list)\n"
   ]
  },
  {
   "cell_type": "code",
   "execution_count": 4,
   "metadata": {},
   "outputs": [
    {
     "name": "stdout",
     "output_type": "stream",
     "text": [
      "Step 2 - Personal Info Dictionary: {'name': 'Alice Johnson', 'email': 'alice.johnson@example.com', 'phone number': '123-456-7890'}\n",
      "Step 3 - My Name is: Alice Johnson\n",
      "Step 4 - Length of Dictionary: 3\n",
      "Step 5 - Type of Dictionary: <class 'dict'>\n",
      "Bonus - Another Personal Info Dictionary: {'name': 'Bob Smith', 'email': 'bob.smith@example.com', 'phone number': '098-765-4321'}\n",
      "Bonus - Name from Another Dictionary: Bob Smith\n",
      "Bonus - Email from Another Dictionary: bob.smith@example.com\n",
      "Bonus - Phone Number from Another Dictionary: 098-765-4321\n"
     ]
    }
   ],
   "source": [
    "# Homework Hack #4\n",
    "personal_info = {\n",
    "    \"name\": \"Alice Johnson\",\n",
    "    \"email\": \"alice.johnson@example.com\",\n",
    "    \"phone number\": \"123-456-7890\"\n",
    "}\n",
    "\n",
    "print(\"Step 2 - Personal Info Dictionary:\", personal_info)\n",
    "\n",
    "print(\"Step 3 - My Name is:\", personal_info[\"name\"])\n",
    "\n",
    "print(\"Step 4 - Length of Dictionary:\", len(personal_info))\n",
    "\n",
    "print(\"Step 5 - Type of Dictionary:\", type(personal_info))\n",
    "\n",
    "another_info = {\n",
    "    \"name\": \"Bob Smith\",\n",
    "    \"email\": \"bob.smith@example.com\",\n",
    "    \"phone number\": \"098-765-4321\"\n",
    "}\n",
    "\n",
    "print(\"Bonus - Another Personal Info Dictionary:\", another_info)\n",
    "print(\"Bonus - Name from Another Dictionary:\", another_info[\"name\"])\n",
    "print(\"Bonus - Email from Another Dictionary:\", another_info[\"email\"])\n",
    "print(\"Bonus - Phone Number from Another Dictionary:\", another_info[\"phone number\"])\n"
   ]
  },
  {
   "cell_type": "code",
   "execution_count": 5,
   "metadata": {},
   "outputs": [
    {
     "name": "stdout",
     "output_type": "stream",
     "text": [
      "Part 1 - Personal Info: {'full_name': 'Alice Johnson', 'years': 25, 'location': 'New York', 'favorite_food': 'Pizza'}\n",
      "Part 2 - Activities List: ['Reading', 'Cycling', 'Cooking']\n",
      "Part 3 - Updated Personal Info: {'full_name': 'Alice Johnson', 'years': 25, 'location': 'New York', 'favorite_food': 'Pizza', 'activities': ['Reading', 'Cycling', 'Cooking']}\n",
      "Part 4 - Is Cycling available today? True\n",
      "Part 5 - I have 3 activities.\n",
      "Part 6 - Favorite Activities: ('Reading', 'Cycling')\n",
      "Part 7 - Set of Skills: {'Python', 'Public Speaking', 'Cooking'}\n",
      "Part 8 - New Skill: None\n",
      "Part 9 - Total Cost: 45.0\n"
     ]
    }
   ],
   "source": [
    "#Python Popcorn Hacks\n",
    "# Part 1: Create Personal Info \n",
    "personal_info = {\n",
    "    \"full_name\": \"Alice Johnson\",\n",
    "    \"years\": 25,\n",
    "    \"location\": \"New York\",\n",
    "    \"favorite_food\": \"Pizza\"\n",
    "}\n",
    "print(\"Part 1 - Personal Info:\", personal_info)\n",
    "\n",
    "# Part 2: Create a List of Activities\n",
    "activities = [\"Reading\", \"Cycling\", \"Cooking\"]\n",
    "print(\"Part 2 - Activities List:\", activities)\n",
    "\n",
    "# Part 3: Add Activities to Personal Info\n",
    "personal_info[\"activities\"] = activities\n",
    "print(\"Part 3 - Updated Personal Info:\", personal_info)\n",
    "\n",
    "# Part 4: Check Availability of an Activity\n",
    "chosen_activity = \"Cycling\"\n",
    "activity_available = True  #\n",
    "print(f\"Part 4 - Is {chosen_activity} available today? {activity_available}\")\n",
    "\n",
    "# Part 5: Total Number of Activities \n",
    "total_activities = len(activities)\n",
    "print(f\"Part 5 - I have {total_activities} activities.\")\n",
    "\n",
    "# Part 6: Favorite Activities \n",
    "favorite_activities = (\"Reading\", \"Cycling\")\n",
    "print(\"Part 6 - Favorite Activities:\", favorite_activities)\n",
    "\n",
    "# Part 7: Add a New Set of Skills \n",
    "skills = {\"Python\", \"Public Speaking\", \"Cooking\"}\n",
    "print(\"Part 7 - Set of Skills:\", skills)\n",
    "\n",
    "# Part 8: Consider a New Skill \n",
    "new_skill = None\n",
    "print(\"Part 8 - New Skill:\", new_skill)\n",
    "\n",
    "# Part 9: Calculate Total Hobby and Skill Cost \n",
    "activity_cost = 5.0\n",
    "skill_cost = 10.0\n",
    "total_cost = (total_activities * activity_cost) + (len(skills) * skill_cost)\n",
    "print(\"Part 9 - Total Cost:\", total_cost)"
   ]
  },
  {
   "cell_type": "code",
   "execution_count": null,
   "metadata": {
    "vscode": {
     "languageId": "javascript"
    }
   },
   "outputs": [],
   "source": [
    "// Javascript Popcorn Hacks\n",
    "// Popcorn Hack 1 (SETS)\n",
    "// Create Set1 with 3 numbers\n",
    "const Set1 = new Set([1, 2, 3]);\n",
    "\n",
    "// Create Set2 with different 3 numbers\n",
    "const Set2 = new Set([4, 5, 6]);\n",
    "\n",
    "// Log both sets separately\n",
    "console.log(\"Set1:\", Set1);\n",
    "console.log(\"Set2:\", Set2);\n",
    "\n",
    "// Add a number (e.g., 7) to Set1\n",
    "Set1.add(7);\n",
    "\n",
    "// Remove the first number (1) from Set1\n",
    "Set1.delete(1);\n",
    "\n",
    "// Log the union of both Set1 and Set2\n",
    "const unionSet = new Set([...Set1, ...Set2]);\n",
    "console.log(\"Union of Set1 and Set2:\", unionSet);\n",
    "\n",
    "// Popcorn Hack 2 (DICTIONARIES)\n",
    "// Create a dictionary (object) called \"application\"\n",
    "const application = {\n",
    "    name: \"John Doe\",\n",
    "    age: 30,\n",
    "    experiences: [\"Internship at XYZ\", \"Volunteer at ABC\"],\n",
    "    money: 5000\n",
    "};\n",
    "\n",
    "// Log the dictionary to make sure it works\n",
    "console.log(\"Application Dictionary:\", application);\n",
    "\n",
    "// Log only the dictionary's money\n",
    "console.log(\"Money:\", application.money);"
   ]
  },
  {
   "cell_type": "code",
   "execution_count": 7,
   "metadata": {},
   "outputs": [
    {
     "name": "stdout",
     "output_type": "stream",
     "text": [
      "Applicant Information: {'name': 'John', 'age': '500000000000000', 'experiences': ['I like CSP']}\n"
     ]
    }
   ],
   "source": [
    "def gather_applicant_info():\n",
    "    applicant = {}\n",
    "    applicant['name'] = input(\"What is your name? \")\n",
    "    applicant['age'] = input(\"What is your age? \")\n",
    "    experiences_input = input(\"What are your experiences? (separate by commas) \")\n",
    "    applicant['experiences'] = [exp.strip() for exp in experiences_input.split(',')]\n",
    "    print(\"Applicant Information:\", applicant)\n",
    "\n",
    "gather_applicant_info()\n"
   ]
  }
 ],
 "metadata": {
  "kernelspec": {
   "display_name": "Python 3",
   "language": "python",
   "name": "python3"
  },
  "language_info": {
   "codemirror_mode": {
    "name": "ipython",
    "version": 3
   },
   "file_extension": ".py",
   "mimetype": "text/x-python",
   "name": "python",
   "nbconvert_exporter": "python",
   "pygments_lexer": "ipython3",
   "version": "3.12.3"
  }
 },
 "nbformat": 4,
 "nbformat_minor": 2
}
