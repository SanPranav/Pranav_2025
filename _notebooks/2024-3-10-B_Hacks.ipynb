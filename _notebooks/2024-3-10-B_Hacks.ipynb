{
 "cells": [
  {
   "cell_type": "raw",
   "metadata": {
    "vscode": {
     "languageId": "raw"
    }
   },
   "source": [
    "---\n",
    "layout: post\n",
    "title: Homework Hacks 3.10.B\n",
    "description: Homework Hacks 3.10.B\n",
    "type: collab\n",
    "comments: true\n",
    "---"
   ]
  },
  {
   "cell_type": "code",
   "execution_count": null,
   "metadata": {},
   "outputs": [],
   "source": [
    "# 3.10.1 Popcorn\n",
    "my_array = [1, 2, 3, 4, 5]\n",
    "my_array.reverse()\n",
    "print(my_array)"
   ]
  },
  {
   "cell_type": "code",
   "execution_count": null,
   "metadata": {
    "vscode": {
     "languageId": "javascript"
    }
   },
   "outputs": [],
   "source": [
    "// 3.10.1 Popcorn\n",
    "let myArray = [3, 4, 5];\n",
    "myArray = [1, 2, ...myArray];\n",
    "console.log(myArray);"
   ]
  },
  {
   "cell_type": "code",
   "execution_count": null,
   "metadata": {},
   "outputs": [],
   "source": [
    "# 3.10.1 Popcorn\n",
    "my_array = [1, 2, 3, 4, 5]\n",
    "filtered_array = list(filter(lambda x: x > 2, my_array))\n",
    "print(filtered_array)"
   ]
  },
  {
   "cell_type": "code",
   "execution_count": null,
   "metadata": {},
   "outputs": [],
   "source": [
    "# 3.10.1 Popcorn\n",
    "my_array = [1, 2, 3, 4, 5]\n",
    "filtered_array = list(filter(lambda x: x > 2, my_array))\n",
    "print(filtered_array)"
   ]
  },
  {
   "cell_type": "code",
   "execution_count": null,
   "metadata": {},
   "outputs": [],
   "source": [
    "# 3.10.2 Popcorn\n",
    "my_list = [1, 2, 3, 4, 5]\n",
    "my_list.insert(-1, 6)\n",
    "print(my_list)"
   ]
  },
  {
   "cell_type": "code",
   "execution_count": null,
   "metadata": {},
   "outputs": [],
   "source": [
    "# 3.10.2 Popcorn\n",
    "list1 = [1, 2, 3]\n",
    "list2 = [4, 5, 6]\n",
    "list1.extend(list2)\n",
    "print(list1)"
   ]
  },
  {
   "cell_type": "code",
   "execution_count": null,
   "metadata": {},
   "outputs": [],
   "source": [
    "# 3.10.2 Popcorn\n",
    "my_list = [1, 2, 3, 4, 5]\n",
    "my_list.remove(2)  \n",
    "del my_list[1]    \n",
    "my_list.pop()     \n",
    "print(my_list)"
   ]
  },
  {
   "cell_type": "code",
   "execution_count": null,
   "metadata": {},
   "outputs": [],
   "source": [
    "# 3.10.3 Main\n",
    "grocery_list = []\n",
    "\n",
    "def add_item(item):\n",
    "    grocery_list.append(item)\n",
    "\n",
    "def remove_item(item):\n",
    "    if item in grocery_list:\n",
    "        grocery_list.remove(item)\n",
    "\n",
    "def view_list():\n",
    "    print(\"Grocery List:\", grocery_list)\n",
    "\n",
    "add_item(\"Apples\")\n",
    "add_item(\"Bananas\")\n",
    "remove_item(\"Apples\")\n",
    "view_list()"
   ]
  },
  {
   "cell_type": "code",
   "execution_count": null,
   "metadata": {},
   "outputs": [],
   "source": [
    "# 3.10.3 Main\n",
    "numbers = [1, 2, 3, 4, 5, 6, 7, 8, 9, 10]\n",
    "even_numbers = list(filter(lambda x: x % 2 == 0, numbers))\n",
    "print(even_numbers)"
   ]
  },
  {
   "cell_type": "code",
   "execution_count": null,
   "metadata": {},
   "outputs": [],
   "source": [
    "# 3.10.3 Main\n",
    "grades = []\n",
    "\n",
    "def add_grade(grade):\n",
    "    grades.append(grade)\n",
    "\n",
    "def remove_grade(grade):\n",
    "    if grade in grades:\n",
    "        grades.remove(grade)\n",
    "\n",
    "def view_grades():\n",
    "    print(\"Student Grades:\", grades)\n",
    "\n",
    "add_grade(90)\n",
    "add_grade(85)\n",
    "remove_grade(90)\n",
    "view_grades()"
   ]
  },
  {
   "cell_type": "code",
   "execution_count": null,
   "metadata": {},
   "outputs": [],
   "source": [
    "# 3.10.3 Main\n",
    "numbers = [1, 2, 3, 4, 5]\n",
    "sum_numbers = sum(numbers)\n",
    "max_number = max(numbers)\n",
    "min_number = min(numbers)\n",
    "print(\"Sum:\", sum_numbers)\n",
    "print(\"Max:\", max_number)\n",
    "print(\"Min:\", min_number)"
   ]
  },
  {
   "cell_type": "code",
   "execution_count": null,
   "metadata": {},
   "outputs": [],
   "source": [
    "// 3.10.4 Main\n",
    "let numbers = [1, 2, 3, 4, 5];\n",
    "console.log(numbers);"
   ]
  },
  {
   "cell_type": "code",
   "execution_count": null,
   "metadata": {},
   "outputs": [],
   "source": [
    "// 3.10.4 Main\n",
    "let numbers = [1, 2, 3, 4, 5];\n",
    "numbers.forEach(number => console.log(number));"
   ]
  },
  {
   "cell_type": "code",
   "execution_count": null,
   "metadata": {
    "vscode": {
     "languageId": "javascript"
    }
   },
   "outputs": [],
   "source": [
    "// 3.10.4 Main\n",
    "let numbers = [1, 2, 3, 4, 5];\n",
    "numbers.push(6); \n",
    "numbers.splice(2, 1);  \n",
    "console.log(numbers);"
   ]
  },
  {
   "cell_type": "code",
   "execution_count": null,
   "metadata": {},
   "outputs": [],
   "source": [
    "# 3.10.4 Main\n",
    "numbers = [1, 2, 3, 4, 5, 6, 7, 8, 9, 10]\n",
    "even_count = sum(1 for number in numbers if number % 2 == 0)\n",
    "print(\"Number of even numbers:\", even_count)"
   ]
  }
 ],
 "metadata": {
  "language_info": {
   "name": "python"
  }
 },
 "nbformat": 4,
 "nbformat_minor": 2
}
