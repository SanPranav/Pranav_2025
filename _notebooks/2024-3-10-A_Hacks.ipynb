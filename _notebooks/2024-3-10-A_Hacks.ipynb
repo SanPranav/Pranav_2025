{
 "cells": [
  {
   "cell_type": "raw",
   "metadata": {
    "vscode": {
     "languageId": "raw"
    }
   },
   "source": [
    "---\n",
    "layout: post\n",
    "title: Homework Hacks 3.10.A\n",
    "description: Homework Hacks 3.10.A\n",
    "type: collab\n",
    "comments: true\n",
    "---"
   ]
  },
  {
   "cell_type": "raw",
   "metadata": {
    "vscode": {
     "languageId": "raw"
    }
   },
   "source": [
    "3.10.1 Hacks"
   ]
  },
  {
   "cell_type": "code",
   "execution_count": 2,
   "metadata": {},
   "outputs": [
    {
     "name": "stdout",
     "output_type": "stream",
     "text": [
      "Current shopping list: ['rayhaan sheeraj']\n",
      "Current shopping list: ['rayhaan sheeraj', 'anvay vahia']\n",
      "Current shopping list: ['rayhaan sheeraj', 'anvay vahia', 'yuva bala']\n",
      "Current shopping list: ['rayhaan sheeraj', 'anvay vahia', 'yuva bala', 'kiruthic selvakumar']\n",
      "Your final shopping list is:\n",
      "rayhaan sheeraj\n",
      "anvay vahia\n",
      "yuva bala\n",
      "kiruthic selvakumar\n"
     ]
    }
   ],
   "source": [
    "# Popcorn Hack #1 Python\n",
    "def shopping_list():\n",
    "    a_list = []\n",
    "\n",
    "    while True:\n",
    "        user_input = input(\"Enter an item you want to add to the shopping list (or 'q' to quit): \")\n",
    "\n",
    "        if user_input == 'q':\n",
    "            break\n",
    "\n",
    "        a_list.append(user_input)\n",
    "        print(\"Current shopping list:\", a_list)\n",
    "    \n",
    "    print(\"Your final shopping list is:\")\n",
    "    for item in a_list:\n",
    "        print(item)\n",
    "\n",
    "shopping_list()"
   ]
  },
  {
   "cell_type": "code",
   "execution_count": null,
   "metadata": {
    "vscode": {
     "languageId": "javascript"
    }
   },
   "outputs": [],
   "source": [
    "// Popcorn Hack #1 JavaScript\n",
    "function shoppingList() {\n",
    "    let aList = [];\n",
    "\n",
    "    while (true) {\n",
    "        let userInput = prompt(\"Enter an item you want to add to the shopping list (or 'q' to quit): \");\n",
    "\n",
    "        if (userInput === 'q') {\n",
    "            break;\n",
    "        }\n",
    "\n",
    "        aList.push(userInput);\n",
    "        console.log(\"Current shopping list:\", aList);\n",
    "    }\n",
    "\n",
    "    console.log(\"Your final shopping list is:\");\n",
    "    aList.forEach(item => console.log(item));\n",
    "}\n",
    "\n",
    "shoppingList();"
   ]
  },
  {
   "cell_type": "raw",
   "metadata": {
    "vscode": {
     "languageId": "raw"
    }
   },
   "source": [
    "3.10.2 Hacks"
   ]
  },
  {
   "cell_type": "code",
   "execution_count": 4,
   "metadata": {},
   "outputs": [
    {
     "name": "stdout",
     "output_type": "stream",
     "text": [
      "The second element in the list is: bye\n",
      "The updated list after deleting the second element is: ['hi']\n"
     ]
    }
   ],
   "source": [
    "# Popcorn Hack #2 Python\n",
    "\n",
    "a_list = []\n",
    "\n",
    "while True:\n",
    "    user_input = input(\"Enter an item to add to the list (or 'q' to quit): \")\n",
    "    if user_input == 'q':\n",
    "        break\n",
    "    a_list.append(user_input)\n",
    "\n",
    "if len(a_list) > 1:\n",
    "    print(\"The second element in the list is:\", a_list[1])\n",
    "else:\n",
    "    print(\"The list does not have a second element.\")\n",
    "\n",
    "if len(a_list) > 1:\n",
    "    del a_list[1]\n",
    "    print(\"The updated list after deleting the second element is:\", a_list)\n",
    "else:\n",
    "    print(\"The list does not have a second element to delete.\")"
   ]
  },
  {
   "cell_type": "code",
   "execution_count": null,
   "metadata": {
    "vscode": {
     "languageId": "javascript"
    }
   },
   "outputs": [],
   "source": [
    "// Popcorn Hack #2 JavaScript\n",
    "let aList = [];\n",
    "\n",
    "while (true) {\n",
    "    let userInput = prompt(\"Enter an item to add to the list (or 'q' to quit): \");\n",
    "    if (userInput === 'q') {\n",
    "        break;\n",
    "    }\n",
    "    aList.push(userInput);\n",
    "}\n",
    "\n",
    "if (aList.length > 1) {\n",
    "    console.log(\"The second element in the list is:\", aList[1]);\n",
    "} else {\n",
    "    console.log(\"The list does not have a second element.\");\n",
    "}\n",
    "\n",
    "if (aList.length > 1) {\n",
    "    aList.splice(1, 1);\n",
    "    console.log(\"The updated list after deleting the second element is:\", aList);\n",
    "} else {\n",
    "    console.log(\"The list does not have a second element to delete.\");\n",
    "}"
   ]
  },
  {
   "cell_type": "raw",
   "metadata": {
    "vscode": {
     "languageId": "raw"
    }
   },
   "source": [
    "3.10.3 Hacks"
   ]
  },
  {
   "cell_type": "code",
   "execution_count": 11,
   "metadata": {
    "vscode": {
     "languageId": "javascript"
    }
   },
   "outputs": [
    {
     "ename": "SyntaxError",
     "evalue": "invalid syntax (1254572404.py, line 1)",
     "output_type": "error",
     "traceback": [
      "\u001b[0;36m  Cell \u001b[0;32mIn[11], line 1\u001b[0;36m\u001b[0m\n\u001b[0;31m    // Popcorn Hack #3\u001b[0m\n\u001b[0m    ^\u001b[0m\n\u001b[0;31mSyntaxError\u001b[0m\u001b[0;31m:\u001b[0m invalid syntax\n"
     ]
    }
   ],
   "source": [
    "// Popcorn Hack #3 JavaScript\n",
    "%%js\n",
    "\n",
    "let Foods = [\"Water\", \"Ice Water\", \"Cold Water\", \"Hot Water\", \"Warm Water\"];\n",
    "Foods.push(\"More Water\");\n",
    "Foods.push(\"Even More Water\");\n",
    "\n",
    "console.log(\"List:\", Foods);\n",
    "console.log(\"Length of List:\", Foods.length);"
   ]
  },
  {
   "cell_type": "code",
   "execution_count": 1,
   "metadata": {},
   "outputs": [
    {
     "name": "stdout",
     "output_type": "stream",
     "text": [
      "List: ['Water', 'Ice Water', 'Cold Water', 'Hot Water', 'Warm Water', 'More Water', 'Even More Water']\n",
      "Length of List: 7\n"
     ]
    }
   ],
   "source": [
    "# Popcorn Hack #3 Python\n",
    "\n",
    "foods = [\"Water\", \"Ice Water\", \"Cold Water\", \"Hot Water\", \"Warm Water\"]\n",
    "foods.append(\"More Water\")\n",
    "foods.append(\"Even More Water\")\n",
    "\n",
    "print(\"List:\", foods)\n",
    "print(\"Length of List:\", len(foods))"
   ]
  },
  {
   "cell_type": "raw",
   "metadata": {
    "vscode": {
     "languageId": "raw"
    }
   },
   "source": [
    "3.10.4 Hacks"
   ]
  },
  {
   "cell_type": "code",
   "execution_count": 12,
   "metadata": {},
   "outputs": [
    {
     "name": "stdout",
     "output_type": "stream",
     "text": [
      "Sum of all even integers in the list: 30\n"
     ]
    }
   ],
   "source": [
    "# Popcorn Hack #4 Python\n",
    "nums = [1, 2, 3, 4, 5, 6, 7, 8, 9, 10]\n",
    "sum_value = 0\n",
    "\n",
    "for num in nums:\n",
    "    if num % 2 == 0:\n",
    "        sum_value += num\n",
    "\n",
    "print(\"Sum of all even integers in the list:\", sum_value)"
   ]
  },
  {
   "cell_type": "code",
   "execution_count": 2,
   "metadata": {
    "vscode": {
     "languageId": "javascript"
    }
   },
   "outputs": [
    {
     "ename": "SyntaxError",
     "evalue": "invalid syntax (2233487709.py, line 1)",
     "output_type": "error",
     "traceback": [
      "\u001b[0;36m  Cell \u001b[0;32mIn[2], line 1\u001b[0;36m\u001b[0m\n\u001b[0;31m    // Popcorn Hack #4 JavaScript\u001b[0m\n\u001b[0m    ^\u001b[0m\n\u001b[0;31mSyntaxError\u001b[0m\u001b[0;31m:\u001b[0m invalid syntax\n"
     ]
    }
   ],
   "source": [
    "// Popcorn Hack #4 JavaScript\n",
    "%% js\n",
    "let aList = [];\n",
    "\n",
    "while (true) {\n",
    "    let userInput = prompt(\"Enter an item to add to the list (or 'q' to quit): \");\n",
    "    if (userInput === 'q') {\n",
    "        break;\n",
    "    }\n",
    "    aList.push(userInput);\n",
    "}\n",
    "\n",
    "if (aList.length > 1) {\n",
    "    console.log(\"The second element in the list is:\", aList[1]);\n",
    "} else {\n",
    "    console.log(\"The list does not have a second element.\");\n",
    "}\n",
    "\n",
    "if (aList.length > 1) {\n",
    "    aList.splice(1, 1);\n",
    "    console.log(\"The updated list after deleting the second element is:\", aList);\n",
    "} else {\n",
    "    console.log(\"The list does not have a second element to delete.\");\n",
    "}"
   ]
  },
  {
   "cell_type": "code",
   "execution_count": 3,
   "metadata": {
    "vscode": {
     "languageId": "javascript"
    }
   },
   "outputs": [
    {
     "ename": "SyntaxError",
     "evalue": "invalid syntax (2563487852.py, line 3)",
     "output_type": "error",
     "traceback": [
      "\u001b[0;36m  Cell \u001b[0;32mIn[3], line 3\u001b[0;36m\u001b[0m\n\u001b[0;31m    let fruits = [\"apple\", \"banana\", \"orange\"];\u001b[0m\n\u001b[0m        ^\u001b[0m\n\u001b[0;31mSyntaxError\u001b[0m\u001b[0;31m:\u001b[0m invalid syntax\n"
     ]
    }
   ],
   "source": [
    "// Popcorn Hack #5 JavaScript\n",
    "%%js\n",
    "let fruits = [\"apple\", \"banana\", \"orange\"];\n",
    "\n",
    "if (fruits.includes(\"banana\")) {\n",
    "    console.log(\"banana is in the list\");\n",
    "}"
   ]
  },
  {
   "cell_type": "code",
   "execution_count": 4,
   "metadata": {},
   "outputs": [
    {
     "name": "stdout",
     "output_type": "stream",
     "text": [
      "banana is in the list\n"
     ]
    }
   ],
   "source": [
    "# Popcorn Hack #5 Python\n",
    "\n",
    "fruits = [\"apple\", \"banana\", \"orange\"]\n",
    "\n",
    "if \"banana\" in fruits:\n",
    "    print(\"banana is in the list\")"
   ]
  },
  {
   "cell_type": "code",
   "execution_count": 14,
   "metadata": {},
   "outputs": [
    {
     "name": "stdout",
     "output_type": "stream",
     "text": [
      "The second element in the list is: 20\n"
     ]
    }
   ],
   "source": [
    "# Homework #1 Python\n",
    "numbers = [10, 20, 30, 40, 50]\n",
    "print(\"The second element in the list is:\", numbers[1])"
   ]
  },
  {
   "cell_type": "code",
   "execution_count": 15,
   "metadata": {
    "vscode": {
     "languageId": "javascript"
    }
   },
   "outputs": [
    {
     "ename": "SyntaxError",
     "evalue": "invalid syntax (1021077704.py, line 1)",
     "output_type": "error",
     "traceback": [
      "\u001b[0;36m  Cell \u001b[0;32mIn[15], line 1\u001b[0;36m\u001b[0m\n\u001b[0;31m    // Homework #2 Javascript\u001b[0m\n\u001b[0m    ^\u001b[0m\n\u001b[0;31mSyntaxError\u001b[0m\u001b[0;31m:\u001b[0m invalid syntax\n"
     ]
    }
   ],
   "source": [
    "// Homework #2 Javascript\n",
    "let numbers = [10, 20, 30, 40, 50];\n",
    "console.log(\"The second element in the list is:\", numbers[1]);"
   ]
  },
  {
   "cell_type": "code",
   "execution_count": null,
   "metadata": {},
   "outputs": [],
   "source": [
    "# Homework #3 Python\n",
    "def display_menu():\n",
    "    print(\"\\nTo-Do List Menu:\")\n",
    "    print(\"1. View To-Do List\")\n",
    "    print(\"2. Add Item\")\n",
    "    print(\"3. Remove Item\")\n",
    "    print(\"4. Quit\")\n",
    "\n",
    "def view_list(todo_list):\n",
    "    if not todo_list:\n",
    "        print(\"Your to-do list is empty.\")\n",
    "    else:\n",
    "        print(\"Your to-do list:\")\n",
    "        for index, item in enumerate(todo_list, start=1):\n",
    "            print(f\"{index}. {item}\")\n",
    "\n",
    "def add_item(todo_list):\n",
    "    item = input(\"Enter the item to add: \")\n",
    "    todo_list.append(item)\n",
    "    print(f\"'{item}' has been added to your to-do list.\")\n",
    "\n",
    "def remove_item(todo_list):\n",
    "    view_list(todo_list)\n",
    "    if todo_list:\n",
    "        item_index = input(\"Enter the number of the item to remove: \")\n",
    "        if item_index.isdigit() and 1 <= int(item_index) <= len(todo_list):\n",
    "            removed_item = todo_list.pop(int(item_index) - 1)\n",
    "            print(f\"'{removed_item}' has been removed from your to-do list.\")\n",
    "        else:\n",
    "            print(\"Invalid item number.\")\n",
    "\n",
    "def main():\n",
    "    todo_list = []\n",
    "    while True:\n",
    "        display_menu()\n",
    "        choice = input(\"Enter your choice: \")\n",
    "        if choice == '1':\n",
    "            view_list(todo_list)\n",
    "        elif choice == '2':\n",
    "            add_item(todo_list)\n",
    "        elif choice == '3':\n",
    "            remove_item(todo_list)\n",
    "        elif choice == '4':\n",
    "            print(\"Goodbye!\")\n",
    "            break\n",
    "        else:\n",
    "            print(\"Invalid choice. Please try again.\")\n",
    "\n",
    "if __name__ == \"__main__\":\n",
    "    main()"
   ]
  },
  {
   "cell_type": "code",
   "execution_count": null,
   "metadata": {
    "vscode": {
     "languageId": "javascript"
    }
   },
   "outputs": [],
   "source": [
    "// Homework #3 Javascript\n",
    "%% js\n",
    "let aList = [];\n",
    "\n",
    "while (true) {\n",
    "    let userInput = prompt(\"Enter an item to add to the list (or 'q' to quit): \");\n",
    "    if (userInput === 'q') {\n",
    "        break;\n",
    "    }\n",
    "    aList.push(userInput);\n",
    "}\n",
    "\n",
    "if (aList.length > 1) {\n",
    "    console.log(\"The second element in the list is:\", aList[1]);\n",
    "} else {\n",
    "    console.log(\"The list does not have a second element.\");\n",
    "}\n",
    "\n",
    "if (aList.length > 1) {\n",
    "    aList.splice(1, 1);\n",
    "    console.log(\"The updated list after deleting the second element is:\", aList);\n",
    "} else {\n",
    "    console.log(\"The list does not have a second element to delete.\");\n",
    "}"
   ]
  },
  {
   "cell_type": "code",
   "execution_count": 16,
   "metadata": {
    "vscode": {
     "languageId": "javascript"
    }
   },
   "outputs": [
    {
     "ename": "SyntaxError",
     "evalue": "invalid syntax (284891555.py, line 1)",
     "output_type": "error",
     "traceback": [
      "\u001b[0;36m  Cell \u001b[0;32mIn[16], line 1\u001b[0;36m\u001b[0m\n\u001b[0;31m    // Homework #4 JavaScript\u001b[0m\n\u001b[0m    ^\u001b[0m\n\u001b[0;31mSyntaxError\u001b[0m\u001b[0;31m:\u001b[0m invalid syntax\n"
     ]
    }
   ],
   "source": [
    "// Homework #4 JavaScript\n",
    "let workouts = [];\n",
    "\n",
    "function displayMenu() {\n",
    "    console.log(\"\\nWorkout Tracker Menu:\");\n",
    "    console.log(\"1. View Workouts\");\n",
    "    console.log(\"2. Add Workout\");\n",
    "    console.log(\"3. Quit\");\n",
    "}\n",
    "\n",
    "function viewWorkouts() {\n",
    "    if (workouts.length === 0) {\n",
    "        console.log(\"No workouts logged.\");\n",
    "    } else {\n",
    "        console.log(\"Logged Workouts:\");\n",
    "        workouts.forEach((workout, index) => {\n",
    "            console.log(`${index + 1}. Type: ${workout.type}, Duration: ${workout.duration} mins, Calories: ${workout.calories} kcal`);\n",
    "        });\n",
    "    }\n",
    "}\n",
    "\n",
    "function addWorkout() {\n",
    "    let type = prompt(\"Enter workout type:\");\n",
    "    let duration = prompt(\"Enter workout duration (in minutes):\");\n",
    "    let calories = prompt(\"Enter calories burned:\");\n",
    "    workouts.push({ type, duration, calories });\n",
    "    console.log(\"Workout added.\");\n",
    "}\n",
    "\n",
    "while (true) {\n",
    "    displayMenu();\n",
    "    let choice = prompt(\"Enter your choice:\");\n",
    "    if (choice === '1') {\n",
    "        viewWorkouts();\n",
    "    } else if (choice === '2') {\n",
    "        addWorkout();\n",
    "    } else if (choice === '3') {\n",
    "        console.log(\"bye!\");\n",
    "        break;\n",
    "    } else {\n",
    "        console.log(\"Invalid choice. Please try again.\");\n",
    "    }\n",
    "}"
   ]
  },
  {
   "cell_type": "code",
   "execution_count": 5,
   "metadata": {},
   "outputs": [
    {
     "name": "stdout",
     "output_type": "stream",
     "text": [
      "\n",
      "Workout Tracker Menu:\n",
      "1. View Workouts\n",
      "2. Add Workout\n",
      "3. Quit\n",
      "No workouts logged.\n",
      "\n",
      "Workout Tracker Menu:\n",
      "1. View Workouts\n",
      "2. Add Workout\n",
      "3. Quit\n",
      "No workouts logged.\n",
      "\n",
      "Workout Tracker Menu:\n",
      "1. View Workouts\n",
      "2. Add Workout\n",
      "3. Quit\n",
      "Workout added.\n",
      "\n",
      "Workout Tracker Menu:\n",
      "1. View Workouts\n",
      "2. Add Workout\n",
      "3. Quit\n",
      "Logged Workouts:\n",
      "1. Type: all of them, Duration: 10000 mins, Calories: 10000 kcal\n",
      "\n",
      "Workout Tracker Menu:\n",
      "1. View Workouts\n",
      "2. Add Workout\n",
      "3. Quit\n",
      "Goodbye!\n"
     ]
    }
   ],
   "source": [
    "# Homework #4 Python\n",
    "workouts = []\n",
    "\n",
    "def display_menu():\n",
    "    print(\"\\nWorkout Tracker Menu:\")\n",
    "    print(\"1. View Workouts\")\n",
    "    print(\"2. Add Workout\")\n",
    "    print(\"3. Quit\")\n",
    "\n",
    "def view_workouts():\n",
    "    if len(workouts) == 0:\n",
    "        print(\"No workouts logged.\")\n",
    "    else:\n",
    "        print(\"Logged Workouts:\")\n",
    "        for index, workout in enumerate(workouts, start=1):\n",
    "            print(f\"{index}. Type: {workout['type']}, Duration: {workout['duration']} mins, Calories: {workout['calories']} kcal\")\n",
    "\n",
    "def add_workout():\n",
    "    type = input(\"Enter workout type: \")\n",
    "    duration = input(\"Enter workout duration (in minutes): \")\n",
    "    calories = input(\"Enter calories burned: \")\n",
    "    workouts.append({ 'type': type, 'duration': duration, 'calories': calories })\n",
    "    print(\"Workout added.\")\n",
    "\n",
    "while True:\n",
    "    display_menu()\n",
    "    choice = input(\"Enter your choice: \")\n",
    "    if choice == '1':\n",
    "        view_workouts()\n",
    "    elif choice == '2':\n",
    "        add_workout()\n",
    "    elif choice == '3':\n",
    "        print(\"Goodbye!\")\n",
    "        break\n",
    "    else:\n",
    "        print(\"Invalid choice. Please try again.\")"
   ]
  }
 ],
 "metadata": {
  "kernelspec": {
   "display_name": "Python 3",
   "language": "python",
   "name": "python3"
  },
  "language_info": {
   "codemirror_mode": {
    "name": "ipython",
    "version": 3
   },
   "file_extension": ".py",
   "mimetype": "text/x-python",
   "name": "python",
   "nbconvert_exporter": "python",
   "pygments_lexer": "ipython3",
   "version": "3.12.3"
  }
 },
 "nbformat": 4,
 "nbformat_minor": 2
}
