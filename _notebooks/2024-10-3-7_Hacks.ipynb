{
 "cells": [
  {
   "cell_type": "raw",
   "metadata": {
    "vscode": {
     "languageId": "raw"
    }
   },
   "source": [
    "---\n",
    "layout: post\n",
    "title: Homework Hacks 3.7\n",
    "description: Homework Hacks 3.7\n",
    "type: collab\n",
    "comments: true\n",
    "---"
   ]
  },
  {
   "cell_type": "raw",
   "metadata": {
    "vscode": {
     "languageId": "raw"
    }
   },
   "source": [
    "3.7.1 Hacks"
   ]
  },
  {
   "cell_type": "code",
   "execution_count": 1,
   "metadata": {},
   "outputs": [
    {
     "name": "stdout",
     "output_type": "stream",
     "text": [
      "The weather is sunny\n",
      "Your transportation is available\n",
      "Your boots are not present\n",
      "Location determined: yes\n",
      "You need to find your boots first.\n"
     ]
    }
   ],
   "source": [
    "# Popcorn Hack #1\n",
    "weather = \"sunny\"\n",
    "transportation = \"available\"    \n",
    "boots = \"not present\"\n",
    "location_determined = \"yes\"\n",
    "\n",
    "print(\"The weather is \" + weather)\n",
    "print(\"Your transportation is \" + transportation)\n",
    "print(\"Your boots are \" + boots)\n",
    "print(\"Location determined: \" + location_determined)\n",
    "\n",
    "if weather == \"sunny\":\n",
    "    if transportation == \"available\":\n",
    "        if boots == \"present\":\n",
    "            if location_determined == \"yes\":\n",
    "                print(\"You are ready to go hiking!\")\n",
    "            else:\n",
    "                print(\"You need to determine the location first.\")\n",
    "        else:\n",
    "            print(\"You need to find your boots first.\")\n",
    "    else:\n",
    "        print(\"You need to arrange transportation.\")\n",
    "else:\n",
    "    print(\"It's not good weather for hiking.\")"
   ]
  },
  {
   "cell_type": "raw",
   "metadata": {
    "vscode": {
     "languageId": "raw"
    }
   },
   "source": [
    "3.7.2 Hacks"
   ]
  },
  {
   "cell_type": "code",
   "execution_count": null,
   "metadata": {
    "vscode": {
     "languageId": "javascript"
    }
   },
   "outputs": [],
   "source": [
    "// Popcorn Hack #2\n",
    "let weather = \"sunny\";\n",
    "let transportation = \"available\";\n",
    "let boots = \"present\";\n",
    "let locationDetermined = \"yes\";\n",
    "\n",
    "console.log(\"The weather is \" + weather);\n",
    "console.log(\"Your transportation is \" + transportation);\n",
    "console.log(\"Your boots are \" + boots);\n",
    "console.log(\"Location determined: \" + locationDetermined);\n",
    "\n",
    "if (weather === \"sunny\") {\n",
    "    if (transportation === \"available\") {\n",
    "        if (boots === \"present\") {\n",
    "            if (locationDetermined === \"yes\") {\n",
    "                console.log(\"You are ready to go hiking!\");\n",
    "            } else {\n",
    "                console.log(\"You need to determine the location first.\");\n",
    "            }\n",
    "        } else {\n",
    "            console.log(\"You need to find your boots first.\");\n",
    "        }\n",
    "    } else {\n",
    "        console.log(\"You need to arrange transportation.\");\n",
    "    }\n",
    "} else {\n",
    "    console.log(\"It's not good weather for hiking.\");\n",
    "}"
   ]
  },
  {
   "cell_type": "code",
   "execution_count": null,
   "metadata": {
    "vscode": {
     "languageId": "javascript"
    }
   },
   "outputs": [],
   "source": [
    "3.7.3 Hacks"
   ]
  },
  {
   "cell_type": "code",
   "execution_count": null,
   "metadata": {},
   "outputs": [],
   "source": [
    "# Hack #1\n",
    "weather = \"sunny\"\n",
    "have_sunscreen = True\n",
    "have_snacks = True\n",
    "\n",
    "if weather == \"sunny\":\n",
    "    if have_sunscreen:\n",
    "        if have_snacks:\n",
    "            print(\"You are ready for the beach!\")\n",
    "        else:\n",
    "            print(\"You need to get snacks first.\")\n",
    "    else:\n",
    "        print(\"You need to buy sunscreen.\")\n",
    "else:\n",
    "    print(\"It's not a good day for the beach.\")"
   ]
  },
  {
   "cell_type": "code",
   "execution_count": null,
   "metadata": {},
   "outputs": [],
   "source": [
    "# Hack #2\n",
    "age = 20\n",
    "space_in_sqft = 60\n",
    "available_to_care = True\n",
    "\n",
    "if age >= 18:\n",
    "    if space_in_sqft > 50:\n",
    "        if available_to_care:\n",
    "            print(\"You can adopt the pet.\")\n",
    "        else:\n",
    "            print(\"You need to make time to take care of the pet.\")\n",
    "    else:\n",
    "        print(\"You need a bigger home.\")\n",
    "else:\n",
    "    print(\"You must be at least 18 to adopt a pet.\")"
   ]
  },
  {
   "cell_type": "code",
   "execution_count": null,
   "metadata": {},
   "outputs": [],
   "source": [
    "# Hack #3\n",
    "weather = \"clear\"\n",
    "have_running_shoes = True\n",
    "days_practiced = 12\n",
    "\n",
    "if weather == \"clear\":\n",
    "    if have_running_shoes:\n",
    "        if days_practiced >= 10:\n",
    "            print(\"You are ready for the marathon.\")\n",
    "        else:\n",
    "            print(\"You need to practice more.\")\n",
    "    else:\n",
    "        print(\"You need to buy shoes first.\")\n",
    "else:\n",
    "    print(\"It's not the right time for the marathon.\")"
   ]
  },
  {
   "cell_type": "raw",
   "metadata": {
    "vscode": {
     "languageId": "raw"
    }
   },
   "source": [
    "3.7.4 Hacks"
   ]
  },
  {
   "cell_type": "code",
   "execution_count": null,
   "metadata": {
    "vscode": {
     "languageId": "javascript"
    }
   },
   "outputs": [],
   "source": [
    "// Hack #1\n",
    "let haveStudyMaterials = true;\n",
    "let haveQuietPlace = true;\n",
    "let feelingTired = false;\n",
    "\n",
    "if (haveStudyMaterials) {\n",
    "    if (haveQuietPlace) {\n",
    "        if (!feelingTired) {\n",
    "            console.log(\"You are ready to study.\");\n",
    "        } else {\n",
    "            console.log(\"You need to take a nap or rest first.\");\n",
    "        }\n",
    "    } else {\n",
    "        console.log(\"You need to find a quiet place to study.\");\n",
    "    }\n",
    "} else {\n",
    "    console.log(\"You need to gather your study materials first.\");\n",
    "}"
   ]
  },
  {
   "cell_type": "code",
   "execution_count": null,
   "metadata": {
    "vscode": {
     "languageId": "javascript"
    }
   },
   "outputs": [],
   "source": [
    "// Hack #2\n",
    "let haveFlour = true;\n",
    "let haveEggs = true;\n",
    "let haveSugar = false;\n",
    "let ovenWorking = true;\n",
    "let timeAvailable = 3;\n",
    "\n",
    "if (haveFlour && haveEggs && haveSugar) {\n",
    "    if (ovenWorking) {\n",
    "        if (timeAvailable >= 2) {\n",
    "            console.log(\"You can start baking.\");\n",
    "        } else {\n",
    "            console.log(\"You need to find more time.\");\n",
    "        }\n",
    "    } else {\n",
    "        console.log(\"You need to fix or replace the oven.\");\n",
    "    }\n",
    "} else {\n",
    "    let missingIngredients = [];\n",
    "    if (!haveFlour) missingIngredients.push(\"flour\");\n",
    "    if (!haveEggs) missingIngredients.push(\"eggs\");\n",
    "    if (!haveSugar) missingIngredients.push(\"sugar\");\n",
    "    console.log(\"You are missing the following ingredients: \" + missingIngredients.join(\", \"));\n",
    "}"
   ]
  },
  {
   "cell_type": "code",
   "execution_count": null,
   "metadata": {
    "vscode": {
     "languageId": "javascript"
    }
   },
   "outputs": [],
   "source": [
    "// Hack #3\n",
    "let weather = \"clear\";\n",
    "let haveTent = true;\n",
    "let haveFoodAndWater = false;\n",
    "\n",
    "if (weather === \"clear\") {\n",
    "    if (haveTent) {\n",
    "        if (haveFoodAndWater) {\n",
    "            console.log(\"You are ready to go camping.\");\n",
    "        } else {\n",
    "            console.log(\"You need to pack more food and water.\");\n",
    "        }\n",
    "    } else {\n",
    "        console.log(\"You need to buy or borrow a tent.\");\n",
    "    }\n",
    "} else {\n",
    "    console.log(\"It's not a good time for camping.\");\n",
    "}"
   ]
  }
 ],
 "metadata": {
  "kernelspec": {
   "display_name": "Python 3",
   "language": "python",
   "name": "python3"
  },
  "language_info": {
   "codemirror_mode": {
    "name": "ipython",
    "version": 3
   },
   "file_extension": ".py",
   "mimetype": "text/x-python",
   "name": "python",
   "nbconvert_exporter": "python",
   "pygments_lexer": "ipython3",
   "version": "3.12.3"
  }
 },
 "nbformat": 4,
 "nbformat_minor": 2
}
