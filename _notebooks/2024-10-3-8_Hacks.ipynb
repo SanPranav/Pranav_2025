{
 "cells": [
  {
   "cell_type": "raw",
   "metadata": {
    "vscode": {
     "languageId": "raw"
    }
   },
   "source": [
    "---\n",
    "layout: post\n",
    "title: Homework Hacks 3.8\n",
    "description: Homework Hacks 3.8\n",
    "type: collab\n",
    "comments: true\n",
    "---"
   ]
  },
  {
   "cell_type": "raw",
   "metadata": {
    "vscode": {
     "languageId": "raw"
    }
   },
   "source": [
    "Hacks 3.8.1"
   ]
  },
  {
   "cell_type": "code",
   "execution_count": 15,
   "metadata": {},
   "outputs": [
    {
     "name": "stdout",
     "output_type": "stream",
     "text": [
      "Hello\n",
      "Hello\n",
      "Hello\n",
      "Hello\n",
      "Hello\n"
     ]
    }
   ],
   "source": [
    "# Popcorn Hack #1\n",
    "# This is a while loop that will run 5 times\n",
    "counter = 5\n",
    "# This is the while loop\n",
    "while counter > 0:\n",
    "    # This will print \"Hello\" 5 times\n",
    "    print(\"Hello\")\n",
    "    # This will subtract 1 from the counter every time the loop runs\n",
    "    counter -= 1"
   ]
  },
  {
   "cell_type": "raw",
   "metadata": {
    "vscode": {
     "languageId": "raw"
    }
   },
   "source": [
    "Hacks 3.8.2"
   ]
  },
  {
   "cell_type": "code",
   "execution_count": 16,
   "metadata": {},
   "outputs": [
    {
     "name": "stdout",
     "output_type": "stream",
     "text": [
      "Pranav\n",
      "Ponnath\n",
      "Ponnath\n",
      "Santhosh\n",
      "Santhosh\n",
      "Santhosh\n",
      "Pranav\n",
      "Ponnath\n",
      "Ponnath\n",
      "Santhosh\n",
      "Santhosh\n",
      "Santhosh\n",
      "Pranav\n",
      "Ponnath\n",
      "Ponnath\n",
      "Santhosh\n",
      "Santhosh\n",
      "Santhosh\n",
      "Pranav\n",
      "Ponnath\n",
      "Ponnath\n",
      "Santhosh\n",
      "Santhosh\n",
      "Santhosh\n"
     ]
    }
   ],
   "source": [
    "#Popcorn Hack #2\n",
    "#Strings for the varaibles in the loops\n",
    "first_name = \"Pranav\"\n",
    "middle_name = \"Ponnath\"\n",
    "last_name = \"Santhosh\"\n",
    "#This is a for loop that will run 4 times\n",
    "#This will print the first name once, the middle name twice, and the last name three times\n",
    "for _ in range(4):\n",
    "    print(first_name)\n",
    "    for _ in range(2):\n",
    "        print(middle_name)\n",
    "    for _ in range(3):\n",
    "        print(last_name)"
   ]
  },
  {
   "cell_type": "raw",
   "metadata": {
    "vscode": {
     "languageId": "raw"
    }
   },
   "source": [
    "Hacks 3.8.3"
   ]
  },
  {
   "cell_type": "code",
   "execution_count": 17,
   "metadata": {},
   "outputs": [
    {
     "name": "stdout",
     "output_type": "stream",
     "text": [
      "P\n",
      "r\n",
      "a\n",
      "n\n",
      "a\n",
      "v\n",
      " \n",
      "S\n",
      "a\n",
      "n\n",
      "t\n",
      "h\n",
      "o\n",
      "s\n",
      "h\n"
     ]
    }
   ],
   "source": [
    "name = \"Pranav Santhosh\" #This is the string that will be printed\n",
    "\n",
    "for letter in name: #This is a for loop that will run for every letter in the\n",
    "    print(letter) #This will print every letter in the string"
   ]
  },
  {
   "cell_type": "raw",
   "metadata": {
    "vscode": {
     "languageId": "raw"
    }
   },
   "source": [
    "Hacks 3.8.4"
   ]
  },
  {
   "cell_type": "code",
   "execution_count": 1,
   "metadata": {},
   "outputs": [
    {
     "name": "stdout",
     "output_type": "stream",
     "text": [
      "John is 15 years old. Keep up the good work!\n",
      "Abraham is 17 years old. Keep up the good work!\n",
      "Bill is 14 years old. Keep up the good work!\n",
      "Henry is 16 years old. Keep up the good work!\n"
     ]
    }
   ],
   "source": [
    "student_info = {\n",
    "    \"John\": 15,\n",
    "    \"Abraham\": 17,\n",
    "    \"Bill\": 14,\n",
    "    \"Henry\": 16\n",
    "}\n",
    "\n",
    "for name, age in student_info.items():\n",
    "    print(f\"{name} is {age} years old. Keep up the good work!\")"
   ]
  },
  {
   "cell_type": "raw",
   "metadata": {
    "vscode": {
     "languageId": "raw"
    }
   },
   "source": [
    "Hacks 3.8.5"
   ]
  },
  {
   "cell_type": "code",
   "execution_count": 2,
   "metadata": {},
   "outputs": [
    {
     "name": "stdout",
     "output_type": "stream",
     "text": [
      "The password is incorrect. Please try again.\n",
      "The password is incorrect. Please try again.\n",
      "The password is correct.\n"
     ]
    }
   ],
   "source": [
    "# Hack #1\n",
    "correct_password = \"securepassword\"\n",
    "user_password = \"\"\n",
    "\n",
    "while user_password != correct_password:\n",
    "    user_password = input(\"Enter your password: \")\n",
    "    if user_password == correct_password:\n",
    "        print(\"The password is correct.\")\n",
    "    else:\n",
    "        print(\"The password is incorrect. Please try again.\")"
   ]
  },
  {
   "cell_type": "code",
   "execution_count": 3,
   "metadata": {},
   "outputs": [
    {
     "name": "stdout",
     "output_type": "stream",
     "text": [
      "P\n",
      "r\n",
      "a\n",
      "n\n",
      "a\n",
      "v\n"
     ]
    }
   ],
   "source": [
    "# Hack #2\n",
    "name = input(\"Enter your name: \")\n",
    "\n",
    "for letter in name:\n",
    "    print(letter)"
   ]
  },
  {
   "cell_type": "code",
   "execution_count": 12,
   "metadata": {},
   "outputs": [
    {
     "name": "stdout",
     "output_type": "stream",
     "text": [
      "apple\n",
      "banana\n",
      "cherry\n",
      "date\n",
      "elderberry\n",
      "fig\n",
      "grape\n"
     ]
    }
   ],
   "source": [
    "# Hack #3\n",
    "\n",
    "fruits = [\"apple\", \"banana\", \"cherry\", \"date\", \"elderberry\", \"fig\", \"grape\"]\n",
    "\n",
    "for fruit in fruits:\n",
    "    print(fruit)"
   ]
  }
 ],
 "metadata": {
  "kernelspec": {
   "display_name": "Python 3",
   "language": "python",
   "name": "python3"
  },
  "language_info": {
   "codemirror_mode": {
    "name": "ipython",
    "version": 3
   },
   "file_extension": ".py",
   "mimetype": "text/x-python",
   "name": "python",
   "nbconvert_exporter": "python",
   "pygments_lexer": "ipython3",
   "version": "3.12.3"
  }
 },
 "nbformat": 4,
 "nbformat_minor": 2
}
