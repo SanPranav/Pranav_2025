{
 "cells": [
  {
   "cell_type": "raw",
   "metadata": {
    "vscode": {
     "languageId": "raw"
    }
   },
   "source": [
    "---\n",
    "layout: post\n",
    "title: 2018 MCQ Blog\n",
    "description: 2018 MCQ Blog\n",
    "type: collab\n",
    "comments: true\n",
    "---"
   ]
  },
  {
   "cell_type": "markdown",
   "metadata": {
    "vscode": {
     "languageId": "plaintext"
    }
   },
   "source": [
    "\n",
    "---\n",
    "\n",
    "# **2018 Multiple Choice Questions Blog and Corrections**\n",
    "\n",
    "Quizzes serve as an excellent tool to evaluate knowledge and identify areas for growth. My recent experience with a programming quiz highlighted my strengths and pinpointed areas requiring improvement. Here’s an in-depth analysis of my performance:\n",
    "\n",
    "---\n",
    "\n",
    "## **Key Insights from the Quiz**\n",
    "\n",
    "### **Mastered Topics**\n",
    "\n",
    "I achieved a perfect score (100%) in the following areas:\n",
    "\n",
    "| **Topic**                | **Description**                                                                 |\n",
    "|--------------------------|---------------------------------------------------------------------------------| \n",
    "| **Program Design and Development** | Strong understanding of structuring and developing effective programs.         |\n",
    "| **Conditionals**          | Confident in implementing decision-making constructs in programming.              |\n",
    "| **Data Compression**      | Proficient in understanding methods to reduce file size while retaining integrity. |\n",
    "| **Boolean Expressions**   | Skilled in evaluating logical conditions and expressions.                         |\n",
    "| **Lists and Libraries**   | Efficient in managing data structures and utilizing external libraries.           |\n",
    "| **Safe Computing**        | Knowledgeable about ethical practices and secure computing techniques.            |\n",
    "\n",
    "These successes reflect my solid grasp of foundational programming concepts and ethical practices.\n",
    "\n",
    "### **New Skills Unlocked**\n",
    "\n",
    "Through this quiz, I was introduced to advanced topics, including:\n",
    "\n",
    "- **Simulations**\n",
    "- **Algorithmic Efficiency**\n",
    "\n",
    "While these areas presented challenges, I now recognize their real-world significance and have taken initial steps to understand their applications.\n",
    "\n",
    "---\n",
    "\n",
    "## **Areas for Improvement**\n",
    "\n",
    "Even the best journeys have challenges. Here are the topics where I struggled, along with strategies for improvement:\n",
    "\n",
    "| **Area**                 | **Score** | **Challenge**                                                                | **Action Plan**                                                                 |\n",
    "|--------------------------|-----------|-------------------------------------------------------------------------------|---------------------------------------------------------------------------------|\n",
    "| **Binary Numbers**       | 25%       | Difficulty converting between decimal, binary, and other numerical systems.   | Revise binary arithmetic and practice conversion problems.                     |\n",
    "| **Nested Conditionals**  | 33%       | Complex if-else structures were hard to debug and manage.                     | Write practice programs focusing on deeply nested logic for clarity and flow.  |\n",
    "| **Developing Procedures**| 50%       | Crafting modular and reusable functions required more thought.                | Practice creating efficient functions with emphasis on reusability and clarity.|\n",
    "| **Algorithmic Efficiency**| 50%      | Struggled with analyzing and optimizing algorithms for performance.           | Study common algorithms and practice Big-O analysis.                           |\n",
    "| **Simulations**          | 50%       | Understanding and implementing scenarios with accuracy was challenging.       | Explore libraries and frameworks for practical simulation applications.        |\n",
    "\n",
    "---\n",
    "\n",
    "## **Corrections:**\n",
    "\n",
    "| **Question Number** | **Topic**            | **Image of Question**                         | **Answer** | **Reasoning**                                                                 |\n",
    "|---------------------|---------------------|-----------------------------------------------|------------|-------------------------------------------------------------------------------|\n",
    "| 14                  | Program Loops        |  | **D**      | Both programs display 10 values, but Program B’s values are 1 greater than A’s. |\n",
    "| 22                  | Boolean Expressions  |  | **C**      | The Boolean expression ensures accurate evaluation of days above 90°F.        |\n",
    "| 28                  | Binary Sequences     |  | **C**      | 7 bits can encode up to 128 characters, but 8 bits (2⁸ = 256) are required for 200. |\n",
    "| 29                  | Logic Gates          |  | **B**      | The circuit output will be **false** only with input values that satisfy the gate logic. |\n",
    "| 33                  | Logical Expressions  |                                               | **A**      | The flowchart sets `include` to `true` when the condition `(floor > 10) OR (bedrooms == 3)` is satisfied, which matches the algorithm. |\n",
    "| 34                  | Algorithm Logic      |                                               | **D**      | The number of predators is initialized but is never updated during the execution of the program.                                    |\n",
    "| 42                  | IPv6 Addressing      |                                               | **D**      | IPv6 allows \\(2^{128}\\) addresses compared to \\(2^{32}\\) for IPv4, which is \\(2^{96}\\) times more.                                   |\n",
    "| 43                  | Algorithm Complexity |                                               | **A**      | The steps increase proportionally to \\(n^2\\), which is a polynomial time complexity and therefore reasonable.                        |\n",
    "| 44                  | Numeric Overflow     |                                               | **B**      | A 4-bit integer can represent values from 0 to 15. Only \\(10 + 7 = 17\\), which exceeds 15, causes an overflow error.                 |\n",
    "| 51                  | Symmetric Encryption |                                               | **B**      | Symmetric encryption uses the same secret key for both encrypting and decrypting messages.                                          |\n",
    "| 52                  | Algorithm Steps      |                                               | **D**      | The \"shorten\" step must follow the \"keep palindromes\" step to correctly generate the desired list.                                   |\n",
    "| 54                  | Procedural Abstraction|                                               | **D**      | The generalized procedure `Power(n, m)` returns \\(n^m\\), which is a higher abstraction of `square` and `cube`.                       |\n",
    "\n",
    "This table provides detailed corrections, using the uploaded screenshots to clarify the reasoning behind the correct answers.\n",
    "\n",
    "---\n",
    "\n",
    "## **Final Thoughts**\n",
    "\n",
    "This quiz has been an invaluable learning experience. It reaffirmed my strengths while providing clear direction for improvement. I’m proud of my progress and excited to tackle these challenges head-on. Growth is a process, and I’m committed to becoming a better programmer, one step at a time.\n",
    "\n",
    "What strategies do you use to overcome challenging topics? Let’s collaborate and share insights!"
   ]
  },
  {
   "cell_type": "markdown",
   "metadata": {
    "vscode": {
     "languageId": "raw"
    }
   },
   "source": [
    "# Sprint 3 Review and Progress Reflection\n",
    "\n",
    "As I continue to refine my work, Sprint 3 has been an important milestone in enhancing both the functionality and user interface (UI) of my project. This review highlights the improvements made, the code that supports it, and how it all contributes to the overall user experience.\n",
    "\n",
    "---\n",
    "\n",
    "## UI Improvements:\n",
    "\n",
    "For Sprint 3, I focused on enhancing the **navigation menu** and **debate selection interface** to ensure a smoother experience for users. Below is an overview of the user interface, showcasing the **sidebar** and **main debate selection area**.\n",
    "\n",
    "### Navigation Menu:\n",
    "The code is too large for this page so let's take a look at it from the original repository. Here is an image of the menu instead!\n",
    "![Submenu](../images/submenu.png)\n",
    "\n",
    "### Why I Added This Code:\n",
    "\n",
    "I chose to add custom styling to the table to ensure that the navigation menu would not only function smoothly but also look visually appealing. The **hover effects** and **box shadows** help give the menu a modern, interactive feel, while the **color transitions** maintain the consistency of the site's design. The **blue accent color** reflects the overall branding, making the interface feel cohesive and polished.\n",
    "\n",
    "---\n",
    "\n",
    "## Main Debate Selection UI:\n",
    "The code is too large for this page so let's take a look at it from the original repository. Here is an image of the UI instead! \n",
    "![UI](../images/UI.png)\n",
    "\n",
    "### Why I Added This Code:\n",
    "\n",
    "This code structure ensures that the user can **select debate topics**, **submit arguments**, and **view arguments** with ease. The **sidebar** with clickable debate buttons helps users quickly navigate between debates, while the **rule bar** ensures users are always reminded of the platform's community rules.\n",
    "\n",
    "The **model** popup improves the UI flow by informing users of important guidelines before participating. The **submit button** and **textarea** for argument input are crucial for interactivity, enabling users to express their opinions. The **argument list** section helps create a dynamic interaction as users submit and view responses.\n",
    "\n",
    "---\n",
    "\n",
    "## Code Summary and Reflection:\n",
    "\n",
    "In Sprint 3, I implemented interactive UI elements and added engaging features to the debate platform. The **navigation menu** was designed to be intuitive, with an emphasis on style and user interaction. The **debate selection interface** further enhanced the user experience by making it easy to choose a debate topic, submit an argument, and view ongoing discussions.\n",
    "\n",
    "By adding these pieces of code, I was able to contribute significantly to the site's functionality and aesthetics. The smooth **hover effects**, **modal popups**, and **dynamic layout** all work together to create an enjoyable user experience. I’m pleased with the progress made in this sprint, and the code improvements have made the platform both visually appealing and functional.\n",
    "\n",
    "In the future, I’ll continue to refine the UI and add more interactive features to enhance engagement. Keep an eye out for upcoming sprints that will bring even more improvements!\n",
    "\n",
    "---"
   ]
  }
 ],
 "metadata": {
  "language_info": {
   "name": "python"
  }
 },
 "nbformat": 4,
 "nbformat_minor": 2
}
