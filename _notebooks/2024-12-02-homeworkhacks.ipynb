{
 "cells": [
  {
   "cell_type": "raw",
   "id": "e22c21ee",
   "metadata": {
    "vscode": {
     "languageId": "raw"
    }
   },
   "source": [
    "---\n",
    "layout: post\n",
    "title: Binary Search Hacks\n",
    "description: binary Search Homework Hacks\n",
    "type: collab\n",
    "comments: true\n",
    "---"
   ]
  },
  {
   "cell_type": "markdown",
   "id": "1bc3702e",
   "metadata": {},
   "source": [
    "## Problem 1 Code: Basic Binary Search\n",
    "In order to view the answer highlight the code cell. (Styling Issue)"
   ]
  },
  {
   "cell_type": "code",
   "execution_count": null,
   "id": "2859b5b3",
   "metadata": {},
   "outputs": [
    {
     "name": "stdout",
     "output_type": "stream",
     "text": [
      "Index of 7: 3\n"
     ]
    }
   ],
   "source": [
    "# Problem 1: Basic Binary Search\n",
    "\n",
    "def binary_search_iterative(arr, target):\n",
    "    left, right = 0, len(arr) - 1\n",
    "    while left <= right:\n",
    "        mid = (left + right) // 2\n",
    "        if arr[mid] == target:\n",
    "            return mid\n",
    "        elif arr[mid] < target:\n",
    "            left = mid + 1\n",
    "        else:\n",
    "            right = mid - 1\n",
    "    return -1\n",
    "\n",
    "# Test for Problem 1\n",
    "arr1 = [1, 3, 5, 7, 9, 11, 13]\n",
    "target1 = 7\n",
    "result1 = binary_search_iterative(arr1, target1)\n",
    "print(f\"Index of {target1}: {result1}\")"
   ]
  },
  {
   "cell_type": "markdown",
   "id": "9f6152d7",
   "metadata": {},
   "source": [
    "## Problem 2 Code: Recursive Binary Search\n",
    "In order to view the answer highlight the code cell. (Styling Issue)"
   ]
  },
  {
   "cell_type": "code",
   "execution_count": null,
   "id": "04035ff1",
   "metadata": {},
   "outputs": [
    {
     "name": "stdout",
     "output_type": "stream",
     "text": [
      "Index of 30: 2\n"
     ]
    }
   ],
   "source": [
    "# Problem 2: Recursive Binary Search\n",
    "\n",
    "def binary_search_recursive(arr, target, left, right):\n",
    "    if left > right:\n",
    "        return -1\n",
    "    mid = (left + right) // 2\n",
    "    if arr[mid] == target:\n",
    "        return mid\n",
    "    elif arr[mid] < target:\n",
    "        return binary_search_recursive(arr, target, mid + 1, right)\n",
    "    else:\n",
    "        return binary_search_recursive(arr, target, left, mid - 1)\n",
    "\n",
    "# Test for Problem 2\n",
    "arr2 = [10, 20, 30, 40, 50, 60, 70, 80]\n",
    "target2 = 30\n",
    "result2 = binary_search_recursive(arr2, target2, 0, len(arr2) - 1)\n",
    "print(f\"Index of {target2}: {result2}\")\n"
   ]
  }
 ],
 "metadata": {
  "kernelspec": {
   "display_name": "venv",
   "language": "python",
   "name": "python3"
  },
  "language_info": {
   "codemirror_mode": {
    "name": "ipython",
    "version": 3
   },
   "file_extension": ".py",
   "mimetype": "text/x-python",
   "name": "python",
   "nbconvert_exporter": "python",
   "pygments_lexer": "ipython3",
   "version": "3.12.3"
  }
 },
 "nbformat": 4,
 "nbformat_minor": 5
}
